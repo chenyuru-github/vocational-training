{
 "cells": [
  {
   "cell_type": "code",
   "execution_count": 7,
   "metadata": {},
   "outputs": [
    {
     "name": "stdout",
     "output_type": "stream",
     "text": [
      "Python 3.10.9\n"
     ]
    }
   ],
   "source": [
    "!python --version"
   ]
  },
  {
   "attachments": {},
   "cell_type": "markdown",
   "metadata": {},
   "source": [
    "# Long time no see"
   ]
  },
  {
   "cell_type": "code",
   "execution_count": 8,
   "metadata": {},
   "outputs": [],
   "source": [
    "name = input (\"type your name:\")"
   ]
  },
  {
   "cell_type": "code",
   "execution_count": 9,
   "metadata": {},
   "outputs": [
    {
     "name": "stdout",
     "output_type": "stream",
     "text": [
      "Hello-Leo"
     ]
    }
   ],
   "source": [
    "print(\"Hello\", name, sep='-' ,end='') #screen output"
   ]
  },
  {
   "cell_type": "code",
   "execution_count": 10,
   "metadata": {},
   "outputs": [
    {
     "name": "stdout",
     "output_type": "stream",
     "text": [
      "abc 123 "
     ]
    }
   ],
   "source": [
    "print (\"abc\", end=' ')\n",
    "print (\"123\", end=' ')"
   ]
  },
  {
   "cell_type": "code",
   "execution_count": 11,
   "metadata": {},
   "outputs": [
    {
     "name": "stdout",
     "output_type": "stream",
     "text": [
      "abc\n",
      "123\n"
     ]
    }
   ],
   "source": [
    "print(\"abc\")\n",
    "print(\"123\")"
   ]
  },
  {
   "attachments": {},
   "cell_type": "markdown",
   "metadata": {},
   "source": [
    "# DataType"
   ]
  },
  {
   "cell_type": "code",
   "execution_count": 12,
   "metadata": {},
   "outputs": [],
   "source": [
    "seq = 'ATCG'\n",
    "x = 1\n",
    "y = 2.0"
   ]
  },
  {
   "cell_type": "code",
   "execution_count": 13,
   "metadata": {},
   "outputs": [
    {
     "name": "stdout",
     "output_type": "stream",
     "text": [
      "<class 'str'>\n",
      "<class 'int'>\n",
      "<class 'float'>\n"
     ]
    }
   ],
   "source": [
    "print(type(seq))\n",
    "print(type(x))\n",
    "print(type(y))\n",
    "\n",
    "# class 用來定義類別，類別(class)是規劃物件(object)的藍圖，物件屬性 (attribute) 及方法 (method) 都要在類別中定義"
   ]
  },
  {
   "cell_type": "code",
   "execution_count": 14,
   "metadata": {},
   "outputs": [],
   "source": [
    "a = input(\"input number: \")"
   ]
  },
  {
   "cell_type": "code",
   "execution_count": 15,
   "metadata": {},
   "outputs": [
    {
     "name": "stdout",
     "output_type": "stream",
     "text": [
      "<class 'str'>\n"
     ]
    }
   ],
   "source": [
    "print (type(a))"
   ]
  },
  {
   "cell_type": "code",
   "execution_count": null,
   "metadata": {},
   "outputs": [],
   "source": [
    "a1 = 10\n",
    "a1"
   ]
  },
  {
   "cell_type": "code",
   "execution_count": null,
   "metadata": {},
   "outputs": [],
   "source": [
    "print (type(a1))"
   ]
  },
  {
   "cell_type": "code",
   "execution_count": null,
   "metadata": {},
   "outputs": [],
   "source": [
    "b = input(\"input number: \")"
   ]
  },
  {
   "cell_type": "code",
   "execution_count": null,
   "metadata": {},
   "outputs": [],
   "source": [
    "print(type(a))\n",
    "print(type(b))\n",
    "print(a + b)"
   ]
  },
  {
   "cell_type": "code",
   "execution_count": null,
   "metadata": {},
   "outputs": [],
   "source": [
    "print('a + b')"
   ]
  },
  {
   "cell_type": "code",
   "execution_count": null,
   "metadata": {},
   "outputs": [],
   "source": [
    "print(10 + 20)\n",
    "print('10' + '20')\n",
    "print('10' + 20)"
   ]
  },
  {
   "cell_type": "code",
   "execution_count": 18,
   "metadata": {},
   "outputs": [
    {
     "name": "stdout",
     "output_type": "stream",
     "text": [
      " Hello Ru your salary is 12000\n"
     ]
    }
   ],
   "source": [
    "str1 = 'Ru'\n",
    "balance = 12000\n",
    "print(' Hello %s your salary is %d' % (str1, balance) )"
   ]
  },
  {
   "cell_type": "code",
   "execution_count": null,
   "metadata": {},
   "outputs": [],
   "source": [
    "# %s -> string\n",
    "# %d -> Integer\n",
    "# %f -> Float\n",
    "# %o -> Octal\n",
    "# %x -> Hexadecimal\n",
    "# %e -> exponential"
   ]
  },
  {
   "cell_type": "code",
   "execution_count": 19,
   "metadata": {},
   "outputs": [
    {
     "name": "stdout",
     "output_type": "stream",
     "text": [
      "Hello Ru your salary is 12000\n"
     ]
    }
   ],
   "source": [
    "print ('Hello {} your salary is {}'.format(str1, balance))"
   ]
  },
  {
   "cell_type": "code",
   "execution_count": null,
   "metadata": {},
   "outputs": [],
   "source": [
    "# :s string output\n",
    "# :f float output\n",
    "# :% percent output"
   ]
  },
  {
   "cell_type": "code",
   "execution_count": 20,
   "metadata": {},
   "outputs": [
    {
     "name": "stdout",
     "output_type": "stream",
     "text": [
      "Tom, Eric and Jack\n",
      "Eric, Jack and Tom\n",
      "Jack, Tom and Eric\n",
      "Tom*****,     Eric and Jack    \n",
      "Tom, Eric and Jack\n",
      "025.9\n"
     ]
    }
   ],
   "source": [
    "print('{}, {} and {}'.format('Tom','Eric','Jack'))\n",
    "print('{1}, {2} and {0}'.format('Tom','Eric','Jack'))\n",
    "print('{c}, {a} and {b}'.format(a='Tom',b='Eric',c='Jack'))\n",
    "print('{:*<8}, {:>8} and {:8}'.format('Tom','Eric','Jack'))\n",
    "print('{}, {} and {}'.format('Tom','Eric','Jack'))\n",
    "print('{:0>5.1f}'.format(25.890372))"
   ]
  },
  {
   "attachments": {},
   "cell_type": "markdown",
   "metadata": {},
   "source": [
    "# Variables"
   ]
  },
  {
   "cell_type": "code",
   "execution_count": 21,
   "metadata": {},
   "outputs": [
    {
     "name": "stdout",
     "output_type": "stream",
     "text": [
      "<class 'str'>\n",
      "<class 'int'>\n",
      "<class 'bool'>\n",
      "True\n",
      "False\n"
     ]
    }
   ],
   "source": [
    "a = '10' # Variables are containers for storing data values.\n",
    "print(type(a))\n",
    "print(type(int(a)))\n",
    "print(type(bool(a)))\n",
    "print(bool(a))\n",
    "b = ''\n",
    "print(bool(b))"
   ]
  },
  {
   "cell_type": "code",
   "execution_count": null,
   "metadata": {},
   "outputs": [],
   "source": [
    "c = None\n",
    "print(bool(c))"
   ]
  },
  {
   "cell_type": "code",
   "execution_count": 23,
   "metadata": {},
   "outputs": [
    {
     "name": "stdout",
     "output_type": "stream",
     "text": [
      "a id: 2178206466480\n",
      "b id: 2178206466480\n",
      "True\n"
     ]
    }
   ],
   "source": [
    "a = 7\n",
    "b = 7\n",
    "print('a id:', id(a))\n",
    "print('b id:', id(b))\n",
    "print(a is b)"
   ]
  },
  {
   "cell_type": "code",
   "execution_count": 24,
   "metadata": {},
   "outputs": [
    {
     "name": "stdout",
     "output_type": "stream",
     "text": [
      "a id: 2178206466480\n",
      "b id: 2178206466512\n",
      "False\n"
     ]
    }
   ],
   "source": [
    "b = 8\n",
    "print('a id:', id(a))\n",
    "print('b id:', id(b))\n",
    "print(a is b)"
   ]
  },
  {
   "cell_type": "code",
   "execution_count": 25,
   "metadata": {},
   "outputs": [
    {
     "name": "stdout",
     "output_type": "stream",
     "text": [
      "102\n"
     ]
    }
   ],
   "source": [
    "a,b,c = 101,102,103\n",
    "print(b)"
   ]
  },
  {
   "attachments": {},
   "cell_type": "markdown",
   "metadata": {},
   "source": [
    "# Operator"
   ]
  },
  {
   "cell_type": "code",
   "execution_count": 26,
   "metadata": {},
   "outputs": [
    {
     "name": "stdout",
     "output_type": "stream",
     "text": [
      "12\n"
     ]
    },
    {
     "ename": "TypeError",
     "evalue": "can only concatenate str (not \"int\") to str",
     "output_type": "error",
     "traceback": [
      "\u001b[1;31m---------------------------------------------------------------------------\u001b[0m",
      "\u001b[1;31mTypeError\u001b[0m                                 Traceback (most recent call last)",
      "Cell \u001b[1;32mIn[26], line 2\u001b[0m\n\u001b[0;32m      1\u001b[0m \u001b[39mprint\u001b[39m(\u001b[39m3\u001b[39m \u001b[39m*\u001b[39m \u001b[39m4\u001b[39m)\n\u001b[1;32m----> 2\u001b[0m \u001b[39mprint\u001b[39m(\u001b[39m'\u001b[39;49m\u001b[39mHi\u001b[39;49m\u001b[39m'\u001b[39;49m \u001b[39m+\u001b[39;49m \u001b[39m4\u001b[39;49m)\n",
      "\u001b[1;31mTypeError\u001b[0m: can only concatenate str (not \"int\") to str"
     ]
    }
   ],
   "source": [
    "print(3 * 4)\n",
    "print('Hi' + 4)"
   ]
  },
  {
   "cell_type": "code",
   "execution_count": null,
   "metadata": {},
   "outputs": [],
   "source": [
    "print ('Hi' * 4)"
   ]
  },
  {
   "cell_type": "code",
   "execution_count": null,
   "metadata": {},
   "outputs": [],
   "source": [
    "print(10 / 2)\n",
    "print(10 / 0)"
   ]
  },
  {
   "cell_type": "code",
   "execution_count": 27,
   "metadata": {},
   "outputs": [
    {
     "name": "stdout",
     "output_type": "stream",
     "text": [
      "False\n",
      "True\n",
      "False\n",
      "True\n",
      "True\n",
      "False\n",
      "True\n"
     ]
    }
   ],
   "source": [
    "print(123 == '123')\n",
    "print(123 == int('123'))\n",
    "print('ABC' == 'abc')\n",
    "print(True == 1)\n",
    "print(False == 0)\n",
    "print(False == '')\n",
    "print(False == bool(''))"
   ]
  },
  {
   "cell_type": "code",
   "execution_count": 28,
   "metadata": {},
   "outputs": [
    {
     "name": "stdout",
     "output_type": "stream",
     "text": [
      "False\n",
      "True\n",
      "False\n",
      "False\n",
      "True\n"
     ]
    }
   ],
   "source": [
    "print((5<=9) and (3>7))\n",
    "print((5<=9) or  (3>7))\n",
    "print((10 <= 9) and (8 > 7))\n",
    "print((10 <= 9) and (8 < 7))\n",
    "print((10 >= 9) and (8 > 7))"
   ]
  },
  {
   "cell_type": "code",
   "execution_count": 29,
   "metadata": {},
   "outputs": [
    {
     "name": "stdout",
     "output_type": "stream",
     "text": [
      "5\n",
      "False\n",
      "9.0\n",
      "24.0\n",
      "23.0\n"
     ]
    }
   ],
   "source": [
    "print(3 + 4 - 2)\n",
    "print(25 < 10 + 3 * 4) # 25 < (10 + 12) -> 25 <22\n",
    "print(6 / 2 * (1+2)) #6 / 2 * 3 -> 3 * 3\n",
    "print(25 / 5 + 3 * 3 + 2 ** 3 + 13 % 9 // 2 )\n",
    "# 5 + 9 + 8 + 4 // 2 -> 5 + 9 + 8 + 2\n",
    "print(25 / 5 + 3 * 3 + 2 ** 3 + 13 % (9 // 2) )\n",
    "# 5 + 9 + 8 + 4 // 2 -> 5 + 9 + 8 + 1"
   ]
  },
  {
   "attachments": {},
   "cell_type": "markdown",
   "metadata": {},
   "source": [
    "# Random"
   ]
  },
  {
   "cell_type": "code",
   "execution_count": 31,
   "metadata": {},
   "outputs": [],
   "source": [
    "import random"
   ]
  },
  {
   "cell_type": "code",
   "execution_count": 32,
   "metadata": {},
   "outputs": [
    {
     "name": "stdout",
     "output_type": "stream",
     "text": [
      "0.3661670577115964\n",
      "2\n",
      "c\n",
      "1\n"
     ]
    }
   ],
   "source": [
    "print(random.random()) #0 <= x < 1\n",
    "print(random.randint(1,10)) # x is int and random, 1 < x < 10\n",
    "print(random.choice('abcdefg')) # choice from abcdefg\n",
    "print(random.choice(range(0,11))) # 0<=  <11 int"
   ]
  },
  {
   "attachments": {},
   "cell_type": "markdown",
   "metadata": {},
   "source": [
    "# if struct"
   ]
  },
  {
   "cell_type": "code",
   "execution_count": 33,
   "metadata": {},
   "outputs": [
    {
     "name": "stdout",
     "output_type": "stream",
     "text": [
      "19.362472659471475\n"
     ]
    }
   ],
   "source": [
    "weight = int (input('weight(kg): '))\n",
    "height = int (input('height(cm): '))\n",
    "height /= 100\n",
    "bmi = weight / (height ** 2)\n",
    "print(bmi)"
   ]
  },
  {
   "cell_type": "code",
   "execution_count": 37,
   "metadata": {},
   "outputs": [
    {
     "name": "stdout",
     "output_type": "stream",
     "text": [
      "BMI19.4\n",
      "normal\n"
     ]
    }
   ],
   "source": [
    "print('BMI{:.1f}'.format(bmi)) #.1f float one decimal places\n",
    "if bmi < 18.5:\n",
    "    print('light')\n",
    "elif bmi > 27:\n",
    "    print('heavy')\n",
    "else:\n",
    "    print('normal')"
   ]
  },
  {
   "attachments": {},
   "cell_type": "markdown",
   "metadata": {},
   "source": [
    "# For Loop"
   ]
  },
  {
   "cell_type": "code",
   "execution_count": 38,
   "metadata": {},
   "outputs": [
    {
     "name": "stdout",
     "output_type": "stream",
     "text": [
      "0\n",
      "1\n",
      "2\n",
      "3\n",
      "4\n",
      "5\n",
      "6\n",
      "7\n",
      "8\n",
      "9\n",
      "10\n"
     ]
    }
   ],
   "source": [
    "for i in range(0,11): # 0-10\n",
    "    print(i)"
   ]
  },
  {
   "cell_type": "code",
   "execution_count": 39,
   "metadata": {},
   "outputs": [
    {
     "name": "stdout",
     "output_type": "stream",
     "text": [
      "Hello world0!!\n",
      "Hello world1!!\n",
      "Hello world2!!\n",
      "Hello world3!!\n",
      "Hello world4!!\n",
      "Hello world5!!\n",
      "Hello world6!!\n",
      "Hello world7!!\n",
      "Hello world8!!\n",
      "Hello world9!!\n"
     ]
    }
   ],
   "source": [
    "for n in range(10):\n",
    "    print('Hello world{}!!'.format(n))"
   ]
  },
  {
   "cell_type": "code",
   "execution_count": 41,
   "metadata": {},
   "outputs": [
    {
     "name": "stdout",
     "output_type": "stream",
     "text": [
      "0\n",
      "1\n",
      "3\n",
      "6\n",
      "10\n",
      "15\n",
      "21\n",
      "28\n",
      "36\n",
      "45\n",
      "55\n",
      "0+1+2+...+100=55\n"
     ]
    }
   ],
   "source": [
    "sum = 0\n",
    "for n in range(0,11):\n",
    "    sum += n\n",
    "    print(sum)\n",
    "print('0+1+2+...+11={}'.format(sum))"
   ]
  },
  {
   "cell_type": "code",
   "execution_count": 43,
   "metadata": {},
   "outputs": [
    {
     "name": "stdout",
     "output_type": "stream",
     "text": [
      "***\n",
      "**\n",
      "*\n"
     ]
    }
   ],
   "source": [
    "for n in range (3,0,-1):\n",
    "    print('*' * n)"
   ]
  },
  {
   "cell_type": "code",
   "execution_count": 44,
   "metadata": {},
   "outputs": [
    {
     "name": "stdout",
     "output_type": "stream",
     "text": [
      "***\n",
      " **\n",
      "  *\n"
     ]
    }
   ],
   "source": [
    "for n in range (3,0,-1):\n",
    "    print(\" \" * (3-n) + \"*\" * n)"
   ]
  },
  {
   "attachments": {},
   "cell_type": "markdown",
   "metadata": {},
   "source": [
    "# While"
   ]
  },
  {
   "cell_type": "code",
   "execution_count": 45,
   "metadata": {},
   "outputs": [
    {
     "name": "stdout",
     "output_type": "stream",
     "text": [
      "44444254\n",
      "56465\n",
      "456456465\n",
      "543546\n",
      "end!!\n"
     ]
    }
   ],
   "source": [
    "while 1:\n",
    "    text = input(\"Enter birthdate, then press 'q' to leave:\")\n",
    "    if text == \"q\":\n",
    "        print (\"end!!\")\n",
    "        break\n",
    "    print(text)"
   ]
  },
  {
   "cell_type": "code",
   "execution_count": 46,
   "metadata": {},
   "outputs": [
    {
     "name": "stdout",
     "output_type": "stream",
     "text": [
      "1\n",
      "2\n",
      "4\n",
      "5\n"
     ]
    }
   ],
   "source": [
    "i = 0\n",
    "while i < 5:\n",
    "    i += 1\n",
    "    if i == 3:\n",
    "         continue\n",
    "    print(i)"
   ]
  },
  {
   "cell_type": "code",
   "execution_count": 49,
   "metadata": {},
   "outputs": [
    {
     "name": "stdout",
     "output_type": "stream",
     "text": [
      "0\n",
      "1\n",
      "2\n",
      "3\n",
      "1\n",
      "4\n",
      "ok\n"
     ]
    }
   ],
   "source": [
    "n=5\n",
    "i=0\n",
    "while i<n:\n",
    "    print(i)\n",
    "    if (i==3):\n",
    "        print('%d'%1)\n",
    "        # break\n",
    "    i += 1\n",
    "else:\n",
    "    print(\"ok\")"
   ]
  },
  {
   "cell_type": "code",
   "execution_count": 50,
   "metadata": {},
   "outputs": [
    {
     "name": "stdout",
     "output_type": "stream",
     "text": [
      "The number is too small!\n",
      "The number is too small!\n",
      "The number is too small!\n",
      "The number is too big!\n",
      "The number is too small!\n",
      "The number is too small!\n",
      "The number is too small!\n",
      "The number is too small!\n",
      "The number is too small!\n",
      "The number is too small!\n",
      "The number is too small!\n",
      "The number is too small!\n",
      "The number is too small!\n",
      "The number is too big!\n",
      "The number is too big!\n",
      "The number is too big!\n",
      "Bingo = 97\n"
     ]
    }
   ],
   "source": [
    "import random\n",
    "target = random.randint(1,100)\n",
    "guess = 1\n",
    "while True:\n",
    "    guess = int(input(\"input a number will be guessed (1-100), input 0 exit =>\"))\n",
    "    if target == guess or guess == 0:\n",
    "        break\n",
    "    if guess > target:\n",
    "        print(\"The number is too big!\")\n",
    "    else:\n",
    "        print(\"The number is too small!\")\n",
    "if guess == 0:\n",
    "    print(\"welcome next time\")\n",
    "else:\n",
    "    print(\"Bingo the number is \" + str(target))"
   ]
  },
  {
   "attachments": {},
   "cell_type": "markdown",
   "metadata": {},
   "source": [
    "# Exercise 1: 讀取輸入數字,先判斷是否為整數,再判斷是為奇數或偶數\n",
    "\n",
    "# 提示:判斷是否為整數--if number.isdigit():"
   ]
  },
  {
   "cell_type": "code",
   "execution_count": 51,
   "metadata": {},
   "outputs": [
    {
     "data": {
      "text/plain": [
       "True"
      ]
     },
     "execution_count": 51,
     "metadata": {},
     "output_type": "execute_result"
    }
   ],
   "source": [
    "x='5'\n",
    "x.isdigit()"
   ]
  },
  {
   "cell_type": "code",
   "execution_count": 56,
   "metadata": {},
   "outputs": [
    {
     "name": "stdout",
     "output_type": "stream",
     "text": [
      "Input is number\n",
      "This is odd\n"
     ]
    }
   ],
   "source": [
    "num = input('Input a int number :')\n",
    "if num.isdigit() ==True:\n",
    "    print(\"Input is number\")\n",
    "    if int(num)%2 == 0:\n",
    "        print(\"This is even\")\n",
    "    else:\n",
    "        print(\"This is odd\")"
   ]
  },
  {
   "attachments": {},
   "cell_type": "markdown",
   "metadata": {},
   "source": [
    "# Exercise 2: 讀取輸入西元年份,判斷年份是否為閏年 １.不可被4整除者為平年。 ２.可被4整除且不為100整除者為閏年。 ３.可被400整除為閏年。"
   ]
  },
  {
   "cell_type": "code",
   "execution_count": 78,
   "metadata": {},
   "outputs": [
    {
     "name": "stdout",
     "output_type": "stream",
     "text": [
      "This is normal year\n"
     ]
    }
   ],
   "source": [
    "year = int(input('which year?'))\n",
    "if (year % 4) > 0 :\n",
    "    print (\"This is normal year\")\n",
    "elif (year % 100) > 0:\n",
    "    print (\"This is leap year\")\n",
    "elif (year % 400) == 0:\n",
    "    print (\"This is leap year\")\n",
    "else:\n",
    "    print (\"This is normal year\")"
   ]
  },
  {
   "attachments": {},
   "cell_type": "markdown",
   "metadata": {},
   "source": [
    "# Exercise 3:列出1到1000(含)中不是2或5的倍數"
   ]
  },
  {
   "cell_type": "code",
   "execution_count": 70,
   "metadata": {},
   "outputs": [
    {
     "name": "stdout",
     "output_type": "stream",
     "text": [
      "1\n",
      "3\n",
      "7\n",
      "9\n",
      "11\n",
      "13\n",
      "17\n",
      "19\n",
      "21\n",
      "23\n",
      "27\n",
      "29\n",
      "31\n",
      "33\n",
      "37\n",
      "39\n",
      "41\n",
      "43\n",
      "47\n",
      "49\n",
      "51\n",
      "53\n",
      "57\n",
      "59\n",
      "61\n",
      "63\n",
      "67\n",
      "69\n",
      "71\n",
      "73\n",
      "77\n",
      "79\n",
      "81\n",
      "83\n",
      "87\n",
      "89\n",
      "91\n",
      "93\n",
      "97\n",
      "99\n"
     ]
    }
   ],
   "source": [
    "for i in range(1,1001):\n",
    "    if ((i % 2) > 0):\n",
    "        if ((i % 5) > 0):\n",
    "            print (i)"
   ]
  },
  {
   "attachments": {},
   "cell_type": "markdown",
   "metadata": {},
   "source": [
    "# Exercise 4. Write a Python program to construct the following pattern, using a nested for loop."
   ]
  },
  {
   "cell_type": "code",
   "execution_count": 94,
   "metadata": {},
   "outputs": [
    {
     "name": "stdout",
     "output_type": "stream",
     "text": [
      "\n",
      "* \n",
      "* * \n",
      "* * * \n",
      "* * * * \n",
      "* * * * * \n",
      "* * * * \n",
      "* * * \n",
      "* * \n",
      "* \n"
     ]
    }
   ],
   "source": [
    "for n in range(0,5):\n",
    "    print('* '  * n)\n",
    "for n in range(5,0,-1):\n",
    "    print('* '  * n)"
   ]
  },
  {
   "cell_type": "code",
   "execution_count": 46,
   "metadata": {},
   "outputs": [
    {
     "name": "stdout",
     "output_type": "stream",
     "text": [
      "Enter number\n",
      "-5! = 1 x 2 x 3 x 4 x 5 = 120\n"
     ]
    }
   ],
   "source": [
    "print(\"Enter number\")\n",
    "number = int(input())\n",
    "endnum=abs(number)+1\n",
    "ans = 1\n",
    "for n in range(1,endnum):\n",
    "    ans *= n\n",
    "\n",
    "text = str(number) + \"! = \"\n",
    "if number > 0 :\n",
    "    for n in range(number,0,-1):\n",
    "        if not n == 1 :\n",
    "            text += str(n)+\" x \"\n",
    "        else:\n",
    "            text += str(n)+\" = \"\n",
    "else:\n",
    "    for n in range(1,endnum,1):\n",
    "        if not n == abs(number) :\n",
    "            text += str(n)+\" x \"\n",
    "        else:\n",
    "            text += str(n)+\" = \"\n",
    "\n",
    "print(text + str(ans))"
   ]
  },
  {
   "cell_type": "code",
   "execution_count": 62,
   "metadata": {},
   "outputs": [
    {
     "name": "stdout",
     "output_type": "stream",
     "text": [
      "Enter number\n",
      "-3! = 6\n"
     ]
    }
   ],
   "source": [
    "print(\"Enter number\")\n",
    "number = int(input())\n",
    "n=abs(number)\n",
    "\n",
    "ans = 1\n",
    "if n == 0 :\n",
    "    print (\"0! = 1\")\n",
    "else :\n",
    "    while n > 0 :\n",
    "        ans *= n\n",
    "        n -= 1\n",
    "\n",
    "print ( str(number)+\"! = \"+str(ans))"
   ]
  },
  {
   "attachments": {},
   "cell_type": "markdown",
   "metadata": {},
   "source": [
    "# List\n",
    "# python allow list, set, dict, tuple, string"
   ]
  },
  {
   "cell_type": "code",
   "execution_count": 63,
   "metadata": {},
   "outputs": [
    {
     "data": {
      "text/plain": [
       "['a', ' b', ' c']"
      ]
     },
     "execution_count": 63,
     "metadata": {},
     "output_type": "execute_result"
    }
   ],
   "source": [
    "# Build a List\n",
    "listdemo = list([\"a\",\"b\",\"c\"])\n",
    "listdemo = [\"a\",\"b\",\"c\"]\n",
    "listdemo = list(\"abc\")\n",
    "listdemo = \"a, b, c\".split(\",\")\n",
    "listdemo"
   ]
  },
  {
   "cell_type": "code",
   "execution_count": 65,
   "metadata": {},
   "outputs": [
    {
     "name": "stdout",
     "output_type": "stream",
     "text": [
      "[0, 2, 4, 6, 8]\n"
     ]
    }
   ],
   "source": [
    "listdemo = list (range(0,10,2))\n",
    "print(listdemo)"
   ]
  },
  {
   "cell_type": "code",
   "execution_count": 66,
   "metadata": {},
   "outputs": [
    {
     "name": "stdout",
     "output_type": "stream",
     "text": [
      "[1, 2]\n",
      "[1, 2, 3, 4]\n",
      "[1, 2, 3, 4, 'b']\n",
      "[1, 2, 3, 4, 'b', 'c', 'd']\n",
      "[1, 2, 3, 4, 'a', 'b', 'c', 'd']\n"
     ]
    }
   ],
   "source": [
    "listdemo = [1, 2]\n",
    "print(listdemo)\n",
    "listdemo += [3, 4]\n",
    "print(listdemo)\n",
    "listdemo.append(\"b\")\n",
    "print(listdemo)\n",
    "listdemo2 = [\"c\",\"d\"]\n",
    "listdemo.extend(listdemo2)\n",
    "print(listdemo)\n",
    "listdemo.insert(4, \"a\")\n",
    "print(listdemo)"
   ]
  },
  {
   "cell_type": "code",
   "execution_count": 67,
   "metadata": {},
   "outputs": [
    {
     "data": {
      "text/plain": [
       "['string', True, 30.5, 1, 2, 3, 4]"
      ]
     },
     "execution_count": 67,
     "metadata": {},
     "output_type": "execute_result"
    }
   ],
   "source": [
    "listdemo = [\"string\", True, 30.5]\n",
    "listdemo2 = [1,2,3,4]\n",
    "listdemo3 = listdemo + listdemo2 # can't accept -, *, /\n",
    "listdemo3"
   ]
  },
  {
   "cell_type": "code",
   "execution_count": 68,
   "metadata": {},
   "outputs": [
    {
     "name": "stdout",
     "output_type": "stream",
     "text": [
      "['string', True, 30.5, 1, 2, 3, 4]\n",
      "string\n",
      "True\n",
      "4\n",
      "[30.5, 1, 2]\n",
      "['string', True, 30.5]\n",
      "[1, 2, 3, 4]\n",
      "[1, 2, 3, 4]\n",
      "[1, 2, 3]\n"
     ]
    }
   ],
   "source": [
    "# read list[start:end[:step]]\n",
    "# Get between start number and end number , not include end number\n",
    "# start not set ,default index 0 value\n",
    "# end not set ,defaut index end value\n",
    "print (listdemo3)\n",
    "print (listdemo3[0])\n",
    "print (listdemo3[1])\n",
    "print (listdemo3[-1])\n",
    "print (listdemo3[2:5])\n",
    "print (listdemo3[:3])\n",
    "print (listdemo3[3:])\n",
    "print (listdemo3[3:7])\n",
    "print (listdemo3[3:6])"
   ]
  },
  {
   "cell_type": "code",
   "execution_count": 69,
   "metadata": {},
   "outputs": [
    {
     "name": "stdout",
     "output_type": "stream",
     "text": [
      "['string', False, 30.5, 1, 2, 3, 4]\n",
      "['string', False, 30.5, 5, 6, 7, 8]\n"
     ]
    }
   ],
   "source": [
    "# replace\n",
    "listdemo3[1] = False\n",
    "print (listdemo3)\n",
    "listdemo3[-4:] = [5, 6, 7, 8]\n",
    "print(listdemo3)"
   ]
  },
  {
   "cell_type": "code",
   "execution_count": 70,
   "metadata": {},
   "outputs": [
    {
     "name": "stdout",
     "output_type": "stream",
     "text": [
      "['string', 30.5, 5, 6, 7, 8]\n",
      "['string', 5, 6, 7, 8]\n"
     ]
    }
   ],
   "source": [
    "del(listdemo3[1])\n",
    "print(listdemo3)\n",
    "listdemo3.remove(30.5)\n",
    "print(listdemo3)"
   ]
  },
  {
   "cell_type": "code",
   "execution_count": 72,
   "metadata": {},
   "outputs": [
    {
     "name": "stdout",
     "output_type": "stream",
     "text": [
      "[1, 2, 'c', 4]\n",
      "[1, 2, 'c', 4]\n"
     ]
    }
   ],
   "source": [
    "listdemo2 = [1, 2, 3, 4]\n",
    "listdemo4 = listdemo2\n",
    "listdemo4[2] = \"c\"\n",
    "print(listdemo4)\n",
    "print(listdemo2)"
   ]
  },
  {
   "cell_type": "code",
   "execution_count": 74,
   "metadata": {},
   "outputs": [
    {
     "name": "stdout",
     "output_type": "stream",
     "text": [
      "[1, 2, 'c', 4]\n",
      "[1, 2, 3, 4]\n"
     ]
    }
   ],
   "source": [
    "listdemo2 = [1, 2, 3, 4]\n",
    "listdemo4 = listdemo2[:]\n",
    "listdemo4[2] = \"c\"\n",
    "print(listdemo4)\n",
    "print(listdemo2)"
   ]
  },
  {
   "cell_type": "code",
   "execution_count": 73,
   "metadata": {},
   "outputs": [
    {
     "name": "stdout",
     "output_type": "stream",
     "text": [
      "[1, 2, 'c', 4]\n",
      "[1, 2, 3, 4]\n"
     ]
    }
   ],
   "source": [
    "import copy\n",
    "listdemo2 = [1, 2, 3, 4]\n",
    "listdemo4 = copy.copy(listdemo2)\n",
    "listdemo4[2] = \"c\"\n",
    "print(listdemo4)\n",
    "print(listdemo2)"
   ]
  },
  {
   "cell_type": "code",
   "execution_count": 75,
   "metadata": {},
   "outputs": [
    {
     "name": "stdout",
     "output_type": "stream",
     "text": [
      "['a', 'b', 'c']\n"
     ]
    }
   ],
   "source": [
    "print(list(\"abc\"))"
   ]
  },
  {
   "cell_type": "code",
   "execution_count": 77,
   "metadata": {},
   "outputs": [
    {
     "name": "stdout",
     "output_type": "stream",
     "text": [
      "['p', 'y', 't', 'h', 'o', 'n']\n"
     ]
    }
   ],
   "source": [
    "# for loop\n",
    "listdemo = []\n",
    "for letter in \"python\":\n",
    "    listdemo.append(letter)\n",
    "print(listdemo)"
   ]
  },
  {
   "cell_type": "code",
   "execution_count": 78,
   "metadata": {},
   "outputs": [
    {
     "name": "stdout",
     "output_type": "stream",
     "text": [
      "['p', 'y', 't', 'h', 'o', 'n']\n"
     ]
    }
   ],
   "source": [
    "# List comprehension\n",
    "listdemo = [x for x in \"python\"]\n",
    "print(listdemo)"
   ]
  },
  {
   "cell_type": "code",
   "execution_count": 79,
   "metadata": {},
   "outputs": [
    {
     "name": "stdout",
     "output_type": "stream",
     "text": [
      "[0, 1, 2, 3, 4, 5, 6, 7, 8, 9, 10, 11, 12, 13, 14, 15, 16, 17, 18, 19, 20, 21, 22, 23, 24, 25, 26, 27, 28, 29, 30, 31, 32, 33, 34, 35, 36, 37, 38, 39]\n"
     ]
    }
   ],
   "source": [
    "listdemo = [x for x in range(40)]\n",
    "print(listdemo)"
   ]
  },
  {
   "cell_type": "code",
   "execution_count": 80,
   "metadata": {},
   "outputs": [
    {
     "name": "stdout",
     "output_type": "stream",
     "text": [
      "[0, 15, 30]\n"
     ]
    }
   ],
   "source": [
    "listdemo = [x for x in range(40) if x % 3 == 0 if x % 5 == 0]\n",
    "print(listdemo)"
   ]
  },
  {
   "cell_type": "code",
   "execution_count": 81,
   "metadata": {},
   "outputs": [
    {
     "name": "stdout",
     "output_type": "stream",
     "text": [
      "[10, 100, 1000, 20, 200, 2000, 30, 300, 3000]\n"
     ]
    }
   ],
   "source": [
    "listdemo = [x*y for x in [1, 2, 3] for y in [10, 100, 1000]]\n",
    "print(listdemo)"
   ]
  },
  {
   "cell_type": "code",
   "execution_count": 83,
   "metadata": {},
   "outputs": [
    {
     "name": "stdout",
     "output_type": "stream",
     "text": [
      "6\n",
      "9\n",
      "1\n",
      "True\n",
      "False\n",
      "True\n",
      "2\n",
      "2\n"
     ]
    }
   ],
   "source": [
    "x = [1, 3, 5, 7, 9, 3]\n",
    "print(len(x))\n",
    "print(max(x))\n",
    "print(min(x))\n",
    "print(3 in x)\n",
    "print(6 in x)\n",
    "print(6 not in x)\n",
    "print(x.index(5))\n",
    "print(x.count(3))"
   ]
  },
  {
   "attachments": {},
   "cell_type": "markdown",
   "metadata": {},
   "source": [
    "# List can change, Tuple can't change"
   ]
  },
  {
   "cell_type": "code",
   "execution_count": 84,
   "metadata": {},
   "outputs": [
    {
     "name": "stdout",
     "output_type": "stream",
     "text": [
      "<class 'tuple'>\n",
      "20\n"
     ]
    },
    {
     "ename": "TypeError",
     "evalue": "'tuple' object does not support item assignment",
     "output_type": "error",
     "traceback": [
      "\u001b[1;31m---------------------------------------------------------------------------\u001b[0m",
      "\u001b[1;31mTypeError\u001b[0m                                 Traceback (most recent call last)",
      "Cell \u001b[1;32mIn[84], line 4\u001b[0m\n\u001b[0;32m      2\u001b[0m \u001b[39mprint\u001b[39m(\u001b[39mtype\u001b[39m(my_tuple))\n\u001b[0;32m      3\u001b[0m \u001b[39mprint\u001b[39m(my_tuple[\u001b[39m1\u001b[39m])\n\u001b[1;32m----> 4\u001b[0m my_tuple[\u001b[39m1\u001b[39;49m] \u001b[39m=\u001b[39m \u001b[39m3\u001b[39m\n",
      "\u001b[1;31mTypeError\u001b[0m: 'tuple' object does not support item assignment"
     ]
    }
   ],
   "source": [
    "my_tuple = (\"jack\", 20,\"jack@gmail.com\")\n",
    "print(type(my_tuple))\n",
    "print(my_tuple[1])\n",
    "my_tuple[1] = 3"
   ]
  },
  {
   "cell_type": "code",
   "execution_count": 85,
   "metadata": {},
   "outputs": [
    {
     "name": "stdout",
     "output_type": "stream",
     "text": [
      "('jack', 20, 'jack@gmail.com', '02-xxxxxxx', '0900xxxxxx')\n",
      "('jack', 20, 'jack@gmail.com', 'jack', 20, 'jack@gmail.com')\n",
      "[1, 2, 1, 2]\n"
     ]
    }
   ],
   "source": [
    "print (my_tuple + (\"02-xxxxxxx\", \"0900xxxxxx\"))\n",
    "print (my_tuple * 2)\n",
    "print ([1, 2] * 2)"
   ]
  },
  {
   "cell_type": "code",
   "execution_count": 86,
   "metadata": {},
   "outputs": [
    {
     "name": "stdout",
     "output_type": "stream",
     "text": [
      "<class 'int'>\n",
      "<class 'tuple'>\n"
     ]
    }
   ],
   "source": [
    "x = (2)\n",
    "print(type(x))\n",
    "x = (2,)\n",
    "print(type(x))"
   ]
  },
  {
   "cell_type": "code",
   "execution_count": 87,
   "metadata": {},
   "outputs": [
    {
     "name": "stdout",
     "output_type": "stream",
     "text": [
      "6\n",
      "9\n",
      "1\n",
      "True\n",
      "False\n",
      "True\n",
      "2\n",
      "2\n"
     ]
    }
   ],
   "source": [
    "x = (1, 3, 5, 7, 9, 3)\n",
    "print(len(x))\n",
    "print(max(x))\n",
    "print(min(x))\n",
    "print(3 in x)\n",
    "print(6 in x)\n",
    "print(6 not in x)\n",
    "print(x.index(5))\n",
    "print(x.count(3))"
   ]
  },
  {
   "cell_type": "code",
   "execution_count": null,
   "metadata": {},
   "outputs": [],
   "source": [
    "xlist = list(x)"
   ]
  },
  {
   "cell_type": "code",
   "execution_count": null,
   "metadata": {},
   "outputs": [],
   "source": [
    "xtuple = tuple(xlist)"
   ]
  },
  {
   "attachments": {},
   "cell_type": "markdown",
   "metadata": {},
   "source": [
    "# String"
   ]
  },
  {
   "cell_type": "code",
   "execution_count": 89,
   "metadata": {},
   "outputs": [
    {
     "name": "stdout",
     "output_type": "stream",
     "text": [
      "6\n"
     ]
    }
   ],
   "source": [
    "language = \"python\"\n",
    "print(len(language))"
   ]
  },
  {
   "cell_type": "code",
   "execution_count": 91,
   "metadata": {},
   "outputs": [
    {
     "name": "stdout",
     "output_type": "stream",
     "text": [
      "t\n"
     ]
    }
   ],
   "source": [
    "chars = language[2]\n",
    "print(chars)"
   ]
  },
  {
   "cell_type": "code",
   "execution_count": 95,
   "metadata": {},
   "outputs": [],
   "source": [
    "str = \"Hello World\"\n",
    "# [start:end[:step]]\n",
    "# Get start to end char . Not include end char.\n",
    "# start not set. Begin with 0.\n",
    "# If end not set then end is end."
   ]
  },
  {
   "cell_type": "code",
   "execution_count": 96,
   "metadata": {},
   "outputs": [
    {
     "name": "stdout",
     "output_type": "stream",
     "text": [
      "Hello\n",
      "Hel\n",
      "World\n",
      "Hello World\n",
      "HlWl\n"
     ]
    }
   ],
   "source": [
    "print(str[0:5])\n",
    "print(str[:3])\n",
    "print(str[6:])\n",
    "print(str[:])\n",
    "print(str [::3])"
   ]
  },
  {
   "cell_type": "code",
   "execution_count": 97,
   "metadata": {},
   "outputs": [
    {
     "name": "stdout",
     "output_type": "stream",
     "text": [
      "2\n",
      "2\n",
      "1\n",
      "2\n",
      "1\n"
     ]
    }
   ],
   "source": [
    "str = \"The Age of Earth\"\n",
    "#count() is char count\n",
    "print(str.count(\"e\",0,len(str)))\n",
    "print(str.count(\"e\",0,7))\n",
    "print(str.count(\"e\",0,6))\n",
    "print(str.count(\"e\"))\n",
    "print(str.count(\"Th\"))"
   ]
  },
  {
   "cell_type": "code",
   "execution_count": 98,
   "metadata": {},
   "outputs": [
    {
     "name": "stdout",
     "output_type": "stream",
     "text": [
      "THE AGE OF EARTH\n",
      "The age of earth\n",
      "The Age Of Earth\n",
      "tHE aGE oF eARTH\n"
     ]
    }
   ],
   "source": [
    "str = \"the age of earth\"\n",
    "print(str.upper())\n",
    "print(str.capitalize())\n",
    "print(str.title())\n",
    "str_title = str.title()\n",
    "print(str_title.swapcase())"
   ]
  },
  {
   "cell_type": "code",
   "execution_count": 99,
   "metadata": {},
   "outputs": [
    {
     "name": "stdout",
     "output_type": "stream",
     "text": [
      "True\n",
      "True\n"
     ]
    }
   ],
   "source": [
    "print (str.endswith(\"th\"))\n",
    "print(str.startswith(\"the\"))"
   ]
  },
  {
   "cell_type": "code",
   "execution_count": 120,
   "metadata": {},
   "outputs": [
    {
     "name": "stdout",
     "output_type": "stream",
     "text": [
      "str1\n",
      "False\n",
      "True\n",
      "str2\n",
      "True\n",
      "True\n",
      "False\n",
      "str3\n",
      "False\n",
      "True\n",
      "True\n"
     ]
    }
   ],
   "source": [
    "str1 = \"ai123\"\n",
    "print(\"str1\")\n",
    "print(str1.isalpha())\n",
    "print(str1.isalnum())\n",
    "\n",
    "str2 = \"abc\"\n",
    "print(\"str2\")\n",
    "print(str2.isalpha())\n",
    "print(str2.isalnum())\n",
    "print(str2.isnumeric())\n",
    "\n",
    "str3 =\"123\"\n",
    "print(\"str3\")\n",
    "print(str3.isalpha())\n",
    "print(str3.isalnum())\n",
    "print(str3.isnumeric())\n",
    "\n",
    "# The isalnum() method returns True if all the characters are alphanumeric, meaning alphabet letter (a-z) and numbers (0-9)."
   ]
  },
  {
   "cell_type": "code",
   "execution_count": 101,
   "metadata": {},
   "outputs": [
    {
     "name": "stdout",
     "output_type": "stream",
     "text": [
      "6\n",
      "4\n",
      "['the', 'age', 'of', 'earth']\n"
     ]
    }
   ],
   "source": [
    "str2 = \" aiot \"\n",
    "print(len(str2))\n",
    "print(len(str2.strip()))\n",
    "print(str.split(\" \"))"
   ]
  },
  {
   "cell_type": "code",
   "execution_count": 103,
   "metadata": {},
   "outputs": [
    {
     "name": "stdout",
     "output_type": "stream",
     "text": [
      "Hello World       Hello World       Hello World\n"
     ]
    }
   ],
   "source": [
    "print (\"Hello World\\\n",
    "       Hello World\\\n",
    "       Hello World\")"
   ]
  },
  {
   "attachments": {},
   "cell_type": "markdown",
   "metadata": {},
   "source": [
    "# Escape Character 「\\」 (\\t) (\\n)"
   ]
  },
  {
   "cell_type": "code",
   "execution_count": 104,
   "metadata": {},
   "outputs": [
    {
     "name": "stdout",
     "output_type": "stream",
     "text": [
      "abc\tef\n",
      "abc\\tef\n",
      "abc\"tef\n",
      "abc'tef\n"
     ]
    }
   ],
   "source": [
    "print(\"abc\\tef\")\n",
    "print(\"abc\\\\tef\")\n",
    "print(\"abc\\\"tef\")\n",
    "print('abc\\'tef')"
   ]
  },
  {
   "cell_type": "code",
   "execution_count": 105,
   "metadata": {},
   "outputs": [
    {
     "name": "stdout",
     "output_type": "stream",
     "text": [
      "abcefg\n",
      "abc\n",
      "def\n"
     ]
    }
   ],
   "source": [
    "print('abcd\\befg')\n",
    "print('abc\\ndef')"
   ]
  },
  {
   "cell_type": "code",
   "execution_count": 106,
   "metadata": {},
   "outputs": [
    {
     "name": "stdout",
     "output_type": "stream",
     "text": [
      "C:\\program Files\tython37-3ack\n",
      "C:\\program Files\\tython37-32\\back\n",
      "C:\\\\program Files\\tython37-32\\back\n"
     ]
    }
   ],
   "source": [
    "print(\"C:\\program Files\\tython37-32\\back\")\n",
    "print(\"C:\\\\program Files\\\\tython37-32\\\\back\")\n",
    "print(r\"C:\\\\program Files\\tython37-32\\back\")"
   ]
  },
  {
   "attachments": {},
   "cell_type": "markdown",
   "metadata": {},
   "source": [
    "# Dictionary"
   ]
  },
  {
   "cell_type": "code",
   "execution_count": 107,
   "metadata": {},
   "outputs": [
    {
     "name": "stdout",
     "output_type": "stream",
     "text": [
      "{'name': 'Alan', 'age': 30}\n",
      "{'name': 'Alan', 'age': 30}\n",
      "{'name': 'Alan', 'age': 30}\n"
     ]
    }
   ],
   "source": [
    "x = {\"name\":\"Alan\",\"age\":30} # key:value\n",
    "y = dict(name=\"Alan\",age=30)\n",
    "z = dict([(\"name\",\"Alan\"),(\"age\",30)])\n",
    "print(x)\n",
    "print(y)\n",
    "print(z)"
   ]
  },
  {
   "cell_type": "code",
   "execution_count": 108,
   "metadata": {},
   "outputs": [
    {
     "name": "stdout",
     "output_type": "stream",
     "text": [
      "Alan\n",
      "30\n"
     ]
    }
   ],
   "source": [
    "# Read\n",
    "print(x[\"name\"])\n",
    "print(x[\"age\"])"
   ]
  },
  {
   "cell_type": "code",
   "execution_count": 109,
   "metadata": {},
   "outputs": [
    {
     "data": {
      "text/plain": [
       "dict_keys(['name', 'age'])"
      ]
     },
     "execution_count": 109,
     "metadata": {},
     "output_type": "execute_result"
    }
   ],
   "source": [
    "x.keys()"
   ]
  },
  {
   "cell_type": "code",
   "execution_count": 110,
   "metadata": {},
   "outputs": [
    {
     "data": {
      "text/plain": [
       "dict_values(['Alan', 30])"
      ]
     },
     "execution_count": 110,
     "metadata": {},
     "output_type": "execute_result"
    }
   ],
   "source": [
    "x.values()"
   ]
  },
  {
   "cell_type": "code",
   "execution_count": 135,
   "metadata": {},
   "outputs": [
    {
     "name": "stdout",
     "output_type": "stream",
     "text": [
      "('name', 'Sameer')\n",
      "('age', 19)\n",
      "('city', 'Dungarpur')\n",
      "name\n",
      "age\n",
      "city\n",
      "Sameer\n",
      "19\n",
      "Dungarpur\n"
     ]
    }
   ],
   "source": [
    "x.items()\n",
    "\n",
    "for i in x.items():\n",
    "    print(i)\n",
    "    \n",
    "for i in x:\n",
    "    print(i)\n",
    "\n",
    "for i in x.values():\n",
    "    print(i)"
   ]
  },
  {
   "cell_type": "code",
   "execution_count": 112,
   "metadata": {},
   "outputs": [
    {
     "name": "stdout",
     "output_type": "stream",
     "text": [
      "{'name': 'Alan', 'age': 20}\n",
      "{'name': 'Alan', 'age': 20, 'email': 'Jack@gmail.com'}\n"
     ]
    }
   ],
   "source": [
    "#kekky exist=>modify value, key not exist=>add key:value\n",
    "x[\"age\"] = 20\n",
    "print(x)\n",
    "x[\"email\"] = \"Jack@gmail.com\"\n",
    "print(x)"
   ]
  },
  {
   "cell_type": "code",
   "execution_count": 113,
   "metadata": {},
   "outputs": [
    {
     "name": "stdout",
     "output_type": "stream",
     "text": [
      "{'name': 'Alan', 'email': 'Jack@gmail.com'}\n",
      "True\n",
      "False\n",
      "key: name \n",
      " value: Alan\n",
      "key: email \n",
      " value: Jack@gmail.com\n"
     ]
    }
   ],
   "source": [
    "del x [\"age\"]\n",
    "print(x)\n",
    "print(\"name\" in x)\n",
    "print(\"age\" in x)\n",
    "for key in x:\n",
    "    print(\"key:\", key, \"\\n\", \"value:\", x[key])"
   ]
  },
  {
   "cell_type": "code",
   "execution_count": null,
   "metadata": {},
   "outputs": [],
   "source": [
    "#zip() function is used to combine two lists.\n",
    "# list1 = [\"name\",\"age\",\"city\"]\n",
    "# list2 = [\"XYZ\",19,\"New York\"]\n",
    "\n",
    "# list(zip(list1, list2))  returns\n",
    "#     [('name','XYZ'),('age',19),('city','New York')] #list of tuples, what is tuple?"
   ]
  },
  {
   "cell_type": "code",
   "execution_count": 121,
   "metadata": {},
   "outputs": [
    {
     "data": {
      "text/plain": [
       "[('name', 'xyz'), ('age', 19), ('city', 'New York')]"
      ]
     },
     "execution_count": 121,
     "metadata": {},
     "output_type": "execute_result"
    }
   ],
   "source": [
    "list1 = [\"name\",\"age\",\"city\"]\n",
    "list2 = [\"xyz\",19,\"New York\"]\n",
    "\n",
    "list(zip(list1, list2))"
   ]
  },
  {
   "cell_type": "code",
   "execution_count": 122,
   "metadata": {},
   "outputs": [
    {
     "name": "stdout",
     "output_type": "stream",
     "text": [
      "('name', 'Sameer')\n",
      "('age', 19)\n",
      "('city', 'Dungarpur')\n"
     ]
    }
   ],
   "source": [
    "nums = [\"name\",\"age\",\"city\"]\n",
    "vals = [\"Sameer\",19,\"Dungarpur\"]\n",
    "x = zip (nums, vals)\n",
    "for i in zip(nums, vals):\n",
    "    print(i)"
   ]
  },
  {
   "cell_type": "code",
   "execution_count": 123,
   "metadata": {},
   "outputs": [
    {
     "name": "stdout",
     "output_type": "stream",
     "text": [
      "{'name': 'Sameer', 'age': 19, 'city': 'Dungarpur'}\n"
     ]
    }
   ],
   "source": [
    "x = dict(zip(nums,vals))\n",
    "print(x)"
   ]
  },
  {
   "attachments": {},
   "cell_type": "markdown",
   "metadata": {},
   "source": [
    "# Set"
   ]
  },
  {
   "cell_type": "code",
   "execution_count": 124,
   "metadata": {},
   "outputs": [
    {
     "name": "stdout",
     "output_type": "stream",
     "text": [
      "<class 'list'>\n"
     ]
    }
   ],
   "source": [
    "my_list = [] # my_tuple = ()\n",
    "print(type(my_list))"
   ]
  },
  {
   "cell_type": "code",
   "execution_count": 126,
   "metadata": {},
   "outputs": [
    {
     "name": "stdout",
     "output_type": "stream",
     "text": [
      "<class 'dict'>\n"
     ]
    }
   ],
   "source": [
    "my_dict ={}\n",
    "print(type(my_dict))"
   ]
  },
  {
   "cell_type": "code",
   "execution_count": 136,
   "metadata": {},
   "outputs": [
    {
     "name": "stdout",
     "output_type": "stream",
     "text": [
      "<class 'dict'>\n"
     ]
    }
   ],
   "source": [
    "my_set = set()\n",
    "print(type(my_dict))"
   ]
  },
  {
   "cell_type": "code",
   "execution_count": 137,
   "metadata": {},
   "outputs": [
    {
     "name": "stdout",
     "output_type": "stream",
     "text": [
      "<class 'set'>\n"
     ]
    }
   ],
   "source": [
    "my_set = set()\n",
    "print(type(my_set))"
   ]
  },
  {
   "cell_type": "code",
   "execution_count": 138,
   "metadata": {},
   "outputs": [
    {
     "name": "stdout",
     "output_type": "stream",
     "text": [
      "{'Tom', 'Tom@gmail.com'}\n"
     ]
    }
   ],
   "source": [
    "# my_set = set(('Tom','Tom@gmail.com')) ## my_set = set(('Tom','Tom@gmail.com')) # set(inside), inside: list, tuple, string,...\n",
    "my_set = {'Tom','Tom@gmail.com'}\n",
    "print(my_set)\n"
   ]
  },
  {
   "cell_type": "code",
   "execution_count": 139,
   "metadata": {},
   "outputs": [
    {
     "name": "stdout",
     "output_type": "stream",
     "text": [
      "{'Tom', 'Tom@gmail.com', '09112222333', '02-11112222', 30}\n"
     ]
    }
   ],
   "source": [
    "#Add\n",
    "my_set.add(30) #add an individual element\n",
    "my_set.update(['02-11112222','09112222333']) # Set update method accepts only iterables: Set, List, Tuple, String, Dictionary as a parameter\n",
    "print(my_set)"
   ]
  },
  {
   "cell_type": "code",
   "execution_count": 143,
   "metadata": {},
   "outputs": [
    {
     "data": {
      "text/plain": [
       "{'02-11112222', '09112223333', 'Tom', 'Tom@gmail.com'}"
      ]
     },
     "execution_count": 143,
     "metadata": {},
     "output_type": "execute_result"
    }
   ],
   "source": [
    "my_set = {'Tom','Tom@gmail.com'}\n",
    "my_set.update(('02-11112222','09112223333'))\n",
    "my_set"
   ]
  },
  {
   "cell_type": "code",
   "execution_count": 146,
   "metadata": {},
   "outputs": [
    {
     "name": "stdout",
     "output_type": "stream",
     "text": [
      "{'Tom', 'Tom@gmail.com', '09112223333', '02-11112222', 30}\n"
     ]
    }
   ],
   "source": [
    "my_set.add(30)\n",
    "print(my_set)"
   ]
  },
  {
   "cell_type": "code",
   "execution_count": 148,
   "metadata": {},
   "outputs": [
    {
     "name": "stdout",
     "output_type": "stream",
     "text": [
      "(1, 1, 1, 2, 2, 3)\n",
      "<class 'tuple'>\n",
      "{1, 2, 3}\n",
      "<class 'set'>\n"
     ]
    }
   ],
   "source": [
    "print((1, 1, 1, 2, 2, 3))\n",
    "print(type((1, 1, 1, 2, 2, 3)))\n",
    "print(set((1, 1, 1, 2, 2, 3)))\n",
    "print(type(set((1, 1, 1, 2, 2, 3))))"
   ]
  },
  {
   "cell_type": "code",
   "execution_count": null,
   "metadata": {},
   "outputs": [],
   "source": [
    "#Delete\n",
    "my_set.remove(30)\n",
    "print(my_set)\n",
    "my_set.remove(30)"
   ]
  },
  {
   "cell_type": "code",
   "execution_count": 149,
   "metadata": {},
   "outputs": [
    {
     "name": "stdout",
     "output_type": "stream",
     "text": [
      "{'Tom', 'Tom@gmail.com', '09112223333', '02-11112222'}\n"
     ]
    }
   ],
   "source": [
    "my_set.discard(30)\n",
    "print(my_set)"
   ]
  },
  {
   "cell_type": "markdown",
   "metadata": {},
   "source": [
    "**Exercise** 6. 請將  [[1,2],[3,4],[5,6]]  轉成  [1,2,3,4,5,6] # List comprehension"
   ]
  },
  {
   "cell_type": "code",
   "execution_count": 3,
   "metadata": {},
   "outputs": [
    {
     "name": "stdout",
     "output_type": "stream",
     "text": [
      "[1, 2, 3, 4, 5, 6]\n"
     ]
    }
   ],
   "source": [
    "list1 = [[1,2],[3,4],[5,6]]\n",
    "listans = [invalue for value in list1 for invalue in value]\n",
    "print(listans)"
   ]
  },
  {
   "cell_type": "code",
   "execution_count": 2,
   "metadata": {},
   "outputs": [
    {
     "name": "stdout",
     "output_type": "stream",
     "text": [
      "[1, 2, 3, 4, 5, 6]\n"
     ]
    }
   ],
   "source": [
    "list1 = [[1,2],[3,4],[5,6]]\n",
    "listans = []\n",
    "for value in list1:\n",
    "  for invalue in value:\n",
    "    listans.append(invalue)\n",
    "print(listans)"
   ]
  },
  {
   "cell_type": "code",
   "execution_count": 7,
   "metadata": {},
   "outputs": [
    {
     "name": "stdout",
     "output_type": "stream",
     "text": [
      "[1, 2, 3, 4, 5, 6, 7, 8]\n",
      "[1, 2, 3, 4, 5, 6, 7, 8]\n"
     ]
    }
   ],
   "source": [
    "list1 = [[[1,2],[3,4]],[[5,6],[7,8]]]\n",
    "# listans = [invalue for value in list1 for invalue in value]\n",
    "listans = [c for a in list1 for b in a for c in b]\n",
    "print(listans)\n",
    "list2=[] \n",
    "for a in list1:\n",
    "    for b in a:\n",
    "        for c in b:\n",
    "            list2.append(c)\n",
    "print(list2)"
   ]
  },
  {
   "attachments": {},
   "cell_type": "markdown",
   "metadata": {},
   "source": [
    "**Exercise 7** \n",
    "當使用者分別輸入「A」、「B」或「C」時，請利用字典(dict)的方法分別輸出「Apple」、「Banana」或「Cherry」。"
   ]
  },
  {
   "cell_type": "code",
   "execution_count": 8,
   "metadata": {},
   "outputs": [
    {
     "name": "stdout",
     "output_type": "stream",
     "text": [
      "Apple\n"
     ]
    }
   ],
   "source": [
    "dic = {\"A\":\"Apple\", \"B\":\"Banana\", \"C\":\"Cherry\"}\n",
    "\n",
    "str = input(\"Enter A/B/C :\")\n",
    "\n",
    "print(dic[str])"
   ]
  },
  {
   "attachments": {},
   "cell_type": "markdown",
   "metadata": {},
   "source": [
    "**Exercise** 8. str1 = \"Apple\", 請以程式將 str1 轉換輸出 {'A': 1,  'p': 2,  'l': 1, 'e': 1}"
   ]
  },
  {
   "cell_type": "code",
   "execution_count": 10,
   "metadata": {},
   "outputs": [
    {
     "name": "stdout",
     "output_type": "stream",
     "text": [
      "{'A': 1, 'p': 2, 'l': 1, 'e': 1}\n"
     ]
    }
   ],
   "source": [
    "str1 = \"Apple\"\n",
    "countDict = dict()\n",
    "\n",
    "for char in str1:\n",
    "    countnum = str1.count(char)\n",
    "    countDict[char]=countnum\n",
    "\n",
    "print(countDict)"
   ]
  },
  {
   "cell_type": "code",
   "execution_count": 9,
   "metadata": {},
   "outputs": [
    {
     "name": "stdout",
     "output_type": "stream",
     "text": [
      "{'A': 1, 'p': 3, 'l': 4, 'e': 5}\n"
     ]
    }
   ],
   "source": [
    "# All string has key in dic\n",
    "str1 = \"Apple\"\n",
    "countDict = dict()\n",
    "\n",
    "strList=list(str1)\n",
    "countDict ={strList[i]:(i+1) for i in range(len(str1))}\n",
    "\n",
    "print(countDict)\n",
    "\n"
   ]
  }
 ],
 "metadata": {
  "kernelspec": {
   "display_name": ".venv",
   "language": "python",
   "name": "python3"
  },
  "language_info": {
   "codemirror_mode": {
    "name": "ipython",
    "version": 3
   },
   "file_extension": ".py",
   "mimetype": "text/x-python",
   "name": "python",
   "nbconvert_exporter": "python",
   "pygments_lexer": "ipython3",
   "version": "3.10.9"
  },
  "orig_nbformat": 4
 },
 "nbformat": 4,
 "nbformat_minor": 2
}
