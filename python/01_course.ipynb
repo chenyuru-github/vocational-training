{
 "cells": [
  {
   "cell_type": "code",
   "execution_count": 7,
   "metadata": {},
   "outputs": [
    {
     "name": "stdout",
     "output_type": "stream",
     "text": [
      "Python 3.10.9\n"
     ]
    }
   ],
   "source": [
    "!python --version"
   ]
  },
  {
   "attachments": {},
   "cell_type": "markdown",
   "metadata": {},
   "source": [
    "# Long time no see"
   ]
  },
  {
   "cell_type": "code",
   "execution_count": 8,
   "metadata": {},
   "outputs": [],
   "source": [
    "name = input (\"type your name:\")"
   ]
  },
  {
   "cell_type": "code",
   "execution_count": 9,
   "metadata": {},
   "outputs": [
    {
     "name": "stdout",
     "output_type": "stream",
     "text": [
      "Hello-Leo"
     ]
    }
   ],
   "source": [
    "print(\"Hello\", name, sep='-' ,end='') #screen output"
   ]
  },
  {
   "cell_type": "code",
   "execution_count": 10,
   "metadata": {},
   "outputs": [
    {
     "name": "stdout",
     "output_type": "stream",
     "text": [
      "abc 123 "
     ]
    }
   ],
   "source": [
    "print (\"abc\", end=' ')\n",
    "print (\"123\", end=' ')"
   ]
  },
  {
   "cell_type": "code",
   "execution_count": 11,
   "metadata": {},
   "outputs": [
    {
     "name": "stdout",
     "output_type": "stream",
     "text": [
      "abc\n",
      "123\n"
     ]
    }
   ],
   "source": [
    "print(\"abc\")\n",
    "print(\"123\")"
   ]
  },
  {
   "attachments": {},
   "cell_type": "markdown",
   "metadata": {},
   "source": [
    "# DataType"
   ]
  },
  {
   "cell_type": "code",
   "execution_count": 12,
   "metadata": {},
   "outputs": [],
   "source": [
    "seq = 'ATCG'\n",
    "x = 1\n",
    "y = 2.0"
   ]
  },
  {
   "cell_type": "code",
   "execution_count": 13,
   "metadata": {},
   "outputs": [
    {
     "name": "stdout",
     "output_type": "stream",
     "text": [
      "<class 'str'>\n",
      "<class 'int'>\n",
      "<class 'float'>\n"
     ]
    }
   ],
   "source": [
    "print(type(seq))\n",
    "print(type(x))\n",
    "print(type(y))\n",
    "\n",
    "# class 用來定義類別，類別(class)是規劃物件(object)的藍圖，物件屬性 (attribute) 及方法 (method) 都要在類別中定義"
   ]
  },
  {
   "cell_type": "code",
   "execution_count": 14,
   "metadata": {},
   "outputs": [],
   "source": [
    "a = input(\"input number: \")"
   ]
  },
  {
   "cell_type": "code",
   "execution_count": 15,
   "metadata": {},
   "outputs": [
    {
     "name": "stdout",
     "output_type": "stream",
     "text": [
      "<class 'str'>\n"
     ]
    }
   ],
   "source": [
    "print (type(a))"
   ]
  },
  {
   "cell_type": "code",
   "execution_count": null,
   "metadata": {},
   "outputs": [],
   "source": [
    "a1 = 10\n",
    "a1"
   ]
  },
  {
   "cell_type": "code",
   "execution_count": null,
   "metadata": {},
   "outputs": [],
   "source": [
    "print (type(a1))"
   ]
  },
  {
   "cell_type": "code",
   "execution_count": null,
   "metadata": {},
   "outputs": [],
   "source": [
    "b = input(\"input number: \")"
   ]
  },
  {
   "cell_type": "code",
   "execution_count": null,
   "metadata": {},
   "outputs": [],
   "source": [
    "print(type(a))\n",
    "print(type(b))\n",
    "print(a + b)"
   ]
  },
  {
   "cell_type": "code",
   "execution_count": null,
   "metadata": {},
   "outputs": [],
   "source": [
    "print('a + b')"
   ]
  },
  {
   "cell_type": "code",
   "execution_count": null,
   "metadata": {},
   "outputs": [],
   "source": [
    "print(10 + 20)\n",
    "print('10' + '20')\n",
    "print('10' + 20)"
   ]
  },
  {
   "cell_type": "code",
   "execution_count": 18,
   "metadata": {},
   "outputs": [
    {
     "name": "stdout",
     "output_type": "stream",
     "text": [
      " Hello Ru your salary is 12000\n"
     ]
    }
   ],
   "source": [
    "str1 = 'Ru'\n",
    "balance = 12000\n",
    "print(' Hello %s your salary is %d' % (str1, balance) )"
   ]
  },
  {
   "cell_type": "code",
   "execution_count": null,
   "metadata": {},
   "outputs": [],
   "source": [
    "# %s -> string\n",
    "# %d -> Integer\n",
    "# %f -> Float\n",
    "# %o -> Octal\n",
    "# %x -> Hexadecimal\n",
    "# %e -> exponential"
   ]
  },
  {
   "cell_type": "code",
   "execution_count": 19,
   "metadata": {},
   "outputs": [
    {
     "name": "stdout",
     "output_type": "stream",
     "text": [
      "Hello Ru your salary is 12000\n"
     ]
    }
   ],
   "source": [
    "print ('Hello {} your salary is {}'.format(str1, balance))"
   ]
  },
  {
   "cell_type": "code",
   "execution_count": null,
   "metadata": {},
   "outputs": [],
   "source": [
    "# :s string output\n",
    "# :f float output\n",
    "# :% percent output"
   ]
  },
  {
   "cell_type": "code",
   "execution_count": 20,
   "metadata": {},
   "outputs": [
    {
     "name": "stdout",
     "output_type": "stream",
     "text": [
      "Tom, Eric and Jack\n",
      "Eric, Jack and Tom\n",
      "Jack, Tom and Eric\n",
      "Tom*****,     Eric and Jack    \n",
      "Tom, Eric and Jack\n",
      "025.9\n"
     ]
    }
   ],
   "source": [
    "print('{}, {} and {}'.format('Tom','Eric','Jack'))\n",
    "print('{1}, {2} and {0}'.format('Tom','Eric','Jack'))\n",
    "print('{c}, {a} and {b}'.format(a='Tom',b='Eric',c='Jack'))\n",
    "print('{:*<8}, {:>8} and {:8}'.format('Tom','Eric','Jack'))\n",
    "print('{}, {} and {}'.format('Tom','Eric','Jack'))\n",
    "print('{:0>5.1f}'.format(25.890372))"
   ]
  },
  {
   "attachments": {},
   "cell_type": "markdown",
   "metadata": {},
   "source": [
    "# Variables"
   ]
  },
  {
   "cell_type": "code",
   "execution_count": 21,
   "metadata": {},
   "outputs": [
    {
     "name": "stdout",
     "output_type": "stream",
     "text": [
      "<class 'str'>\n",
      "<class 'int'>\n",
      "<class 'bool'>\n",
      "True\n",
      "False\n"
     ]
    }
   ],
   "source": [
    "a = '10' # Variables are containers for storing data values.\n",
    "print(type(a))\n",
    "print(type(int(a)))\n",
    "print(type(bool(a)))\n",
    "print(bool(a))\n",
    "b = ''\n",
    "print(bool(b))"
   ]
  },
  {
   "cell_type": "code",
   "execution_count": null,
   "metadata": {},
   "outputs": [],
   "source": [
    "c = None\n",
    "print(bool(c))"
   ]
  },
  {
   "cell_type": "code",
   "execution_count": 23,
   "metadata": {},
   "outputs": [
    {
     "name": "stdout",
     "output_type": "stream",
     "text": [
      "a id: 2178206466480\n",
      "b id: 2178206466480\n",
      "True\n"
     ]
    }
   ],
   "source": [
    "a = 7\n",
    "b = 7\n",
    "print('a id:', id(a))\n",
    "print('b id:', id(b))\n",
    "print(a is b)"
   ]
  },
  {
   "cell_type": "code",
   "execution_count": 24,
   "metadata": {},
   "outputs": [
    {
     "name": "stdout",
     "output_type": "stream",
     "text": [
      "a id: 2178206466480\n",
      "b id: 2178206466512\n",
      "False\n"
     ]
    }
   ],
   "source": [
    "b = 8\n",
    "print('a id:', id(a))\n",
    "print('b id:', id(b))\n",
    "print(a is b)"
   ]
  },
  {
   "cell_type": "code",
   "execution_count": 25,
   "metadata": {},
   "outputs": [
    {
     "name": "stdout",
     "output_type": "stream",
     "text": [
      "102\n"
     ]
    }
   ],
   "source": [
    "a,b,c = 101,102,103\n",
    "print(b)"
   ]
  },
  {
   "attachments": {},
   "cell_type": "markdown",
   "metadata": {},
   "source": [
    "# Operator"
   ]
  },
  {
   "cell_type": "code",
   "execution_count": 26,
   "metadata": {},
   "outputs": [
    {
     "name": "stdout",
     "output_type": "stream",
     "text": [
      "12\n"
     ]
    },
    {
     "ename": "TypeError",
     "evalue": "can only concatenate str (not \"int\") to str",
     "output_type": "error",
     "traceback": [
      "\u001b[1;31m---------------------------------------------------------------------------\u001b[0m",
      "\u001b[1;31mTypeError\u001b[0m                                 Traceback (most recent call last)",
      "Cell \u001b[1;32mIn[26], line 2\u001b[0m\n\u001b[0;32m      1\u001b[0m \u001b[39mprint\u001b[39m(\u001b[39m3\u001b[39m \u001b[39m*\u001b[39m \u001b[39m4\u001b[39m)\n\u001b[1;32m----> 2\u001b[0m \u001b[39mprint\u001b[39m(\u001b[39m'\u001b[39;49m\u001b[39mHi\u001b[39;49m\u001b[39m'\u001b[39;49m \u001b[39m+\u001b[39;49m \u001b[39m4\u001b[39;49m)\n",
      "\u001b[1;31mTypeError\u001b[0m: can only concatenate str (not \"int\") to str"
     ]
    }
   ],
   "source": [
    "print(3 * 4)\n",
    "print('Hi' + 4)"
   ]
  },
  {
   "cell_type": "code",
   "execution_count": null,
   "metadata": {},
   "outputs": [],
   "source": [
    "print ('Hi' * 4)"
   ]
  },
  {
   "cell_type": "code",
   "execution_count": null,
   "metadata": {},
   "outputs": [],
   "source": [
    "print(10 / 2)\n",
    "print(10 / 0)"
   ]
  },
  {
   "cell_type": "code",
   "execution_count": 27,
   "metadata": {},
   "outputs": [
    {
     "name": "stdout",
     "output_type": "stream",
     "text": [
      "False\n",
      "True\n",
      "False\n",
      "True\n",
      "True\n",
      "False\n",
      "True\n"
     ]
    }
   ],
   "source": [
    "print(123 == '123')\n",
    "print(123 == int('123'))\n",
    "print('ABC' == 'abc')\n",
    "print(True == 1)\n",
    "print(False == 0)\n",
    "print(False == '')\n",
    "print(False == bool(''))"
   ]
  },
  {
   "cell_type": "code",
   "execution_count": 28,
   "metadata": {},
   "outputs": [
    {
     "name": "stdout",
     "output_type": "stream",
     "text": [
      "False\n",
      "True\n",
      "False\n",
      "False\n",
      "True\n"
     ]
    }
   ],
   "source": [
    "print((5<=9) and (3>7))\n",
    "print((5<=9) or  (3>7))\n",
    "print((10 <= 9) and (8 > 7))\n",
    "print((10 <= 9) and (8 < 7))\n",
    "print((10 >= 9) and (8 > 7))"
   ]
  },
  {
   "cell_type": "code",
   "execution_count": 29,
   "metadata": {},
   "outputs": [
    {
     "name": "stdout",
     "output_type": "stream",
     "text": [
      "5\n",
      "False\n",
      "9.0\n",
      "24.0\n",
      "23.0\n"
     ]
    }
   ],
   "source": [
    "print(3 + 4 - 2)\n",
    "print(25 < 10 + 3 * 4) # 25 < (10 + 12) -> 25 <22\n",
    "print(6 / 2 * (1+2)) #6 / 2 * 3 -> 3 * 3\n",
    "print(25 / 5 + 3 * 3 + 2 ** 3 + 13 % 9 // 2 )\n",
    "# 5 + 9 + 8 + 4 // 2 -> 5 + 9 + 8 + 2\n",
    "print(25 / 5 + 3 * 3 + 2 ** 3 + 13 % (9 // 2) )\n",
    "# 5 + 9 + 8 + 4 // 2 -> 5 + 9 + 8 + 1"
   ]
  },
  {
   "attachments": {},
   "cell_type": "markdown",
   "metadata": {},
   "source": [
    "# Random"
   ]
  },
  {
   "cell_type": "code",
   "execution_count": 31,
   "metadata": {},
   "outputs": [],
   "source": [
    "import random"
   ]
  },
  {
   "cell_type": "code",
   "execution_count": 32,
   "metadata": {},
   "outputs": [
    {
     "name": "stdout",
     "output_type": "stream",
     "text": [
      "0.3661670577115964\n",
      "2\n",
      "c\n",
      "1\n"
     ]
    }
   ],
   "source": [
    "print(random.random()) #0 <= x < 1\n",
    "print(random.randint(1,10)) # x is int and random, 1 < x < 10\n",
    "print(random.choice('abcdefg')) # choice from abcdefg\n",
    "print(random.choice(range(0,11))) # 0<=  <11 int"
   ]
  },
  {
   "attachments": {},
   "cell_type": "markdown",
   "metadata": {},
   "source": [
    "# if struct"
   ]
  },
  {
   "cell_type": "code",
   "execution_count": 33,
   "metadata": {},
   "outputs": [
    {
     "name": "stdout",
     "output_type": "stream",
     "text": [
      "19.362472659471475\n"
     ]
    }
   ],
   "source": [
    "weight = int (input('weight(kg): '))\n",
    "height = int (input('height(cm): '))\n",
    "height /= 100\n",
    "bmi = weight / (height ** 2)\n",
    "print(bmi)"
   ]
  },
  {
   "cell_type": "code",
   "execution_count": 37,
   "metadata": {},
   "outputs": [
    {
     "name": "stdout",
     "output_type": "stream",
     "text": [
      "BMI19.4\n",
      "normal\n"
     ]
    }
   ],
   "source": [
    "print('BMI{:.1f}'.format(bmi)) #.1f float one decimal places\n",
    "if bmi < 18.5:\n",
    "    print('light')\n",
    "elif bmi > 27:\n",
    "    print('heavy')\n",
    "else:\n",
    "    print('normal')"
   ]
  },
  {
   "attachments": {},
   "cell_type": "markdown",
   "metadata": {},
   "source": [
    "# For Loop"
   ]
  },
  {
   "cell_type": "code",
   "execution_count": 38,
   "metadata": {},
   "outputs": [
    {
     "name": "stdout",
     "output_type": "stream",
     "text": [
      "0\n",
      "1\n",
      "2\n",
      "3\n",
      "4\n",
      "5\n",
      "6\n",
      "7\n",
      "8\n",
      "9\n",
      "10\n"
     ]
    }
   ],
   "source": [
    "for i in range(0,11): # 0-10\n",
    "    print(i)"
   ]
  },
  {
   "cell_type": "code",
   "execution_count": 39,
   "metadata": {},
   "outputs": [
    {
     "name": "stdout",
     "output_type": "stream",
     "text": [
      "Hello world0!!\n",
      "Hello world1!!\n",
      "Hello world2!!\n",
      "Hello world3!!\n",
      "Hello world4!!\n",
      "Hello world5!!\n",
      "Hello world6!!\n",
      "Hello world7!!\n",
      "Hello world8!!\n",
      "Hello world9!!\n"
     ]
    }
   ],
   "source": [
    "for n in range(10):\n",
    "    print('Hello world{}!!'.format(n))"
   ]
  },
  {
   "cell_type": "code",
   "execution_count": 41,
   "metadata": {},
   "outputs": [
    {
     "name": "stdout",
     "output_type": "stream",
     "text": [
      "0\n",
      "1\n",
      "3\n",
      "6\n",
      "10\n",
      "15\n",
      "21\n",
      "28\n",
      "36\n",
      "45\n",
      "55\n",
      "0+1+2+...+100=55\n"
     ]
    }
   ],
   "source": [
    "sum = 0\n",
    "for n in range(0,11):\n",
    "    sum += n\n",
    "    print(sum)\n",
    "print('0+1+2+...+11={}'.format(sum))"
   ]
  },
  {
   "cell_type": "code",
   "execution_count": 43,
   "metadata": {},
   "outputs": [
    {
     "name": "stdout",
     "output_type": "stream",
     "text": [
      "***\n",
      "**\n",
      "*\n"
     ]
    }
   ],
   "source": [
    "for n in range (3,0,-1):\n",
    "    print('*' * n)"
   ]
  },
  {
   "cell_type": "code",
   "execution_count": 44,
   "metadata": {},
   "outputs": [
    {
     "name": "stdout",
     "output_type": "stream",
     "text": [
      "***\n",
      " **\n",
      "  *\n"
     ]
    }
   ],
   "source": [
    "for n in range (3,0,-1):\n",
    "    print(\" \" * (3-n) + \"*\" * n)"
   ]
  },
  {
   "attachments": {},
   "cell_type": "markdown",
   "metadata": {},
   "source": [
    "# While"
   ]
  },
  {
   "cell_type": "code",
   "execution_count": 45,
   "metadata": {},
   "outputs": [
    {
     "name": "stdout",
     "output_type": "stream",
     "text": [
      "44444254\n",
      "56465\n",
      "456456465\n",
      "543546\n",
      "end!!\n"
     ]
    }
   ],
   "source": [
    "while 1:\n",
    "    text = input(\"Enter birthdate, then press 'q' to leave:\")\n",
    "    if text == \"q\":\n",
    "        print (\"end!!\")\n",
    "        break\n",
    "    print(text)"
   ]
  },
  {
   "cell_type": "code",
   "execution_count": 46,
   "metadata": {},
   "outputs": [
    {
     "name": "stdout",
     "output_type": "stream",
     "text": [
      "1\n",
      "2\n",
      "4\n",
      "5\n"
     ]
    }
   ],
   "source": [
    "i = 0\n",
    "while i < 5:\n",
    "    i += 1\n",
    "    if i == 3:\n",
    "         continue\n",
    "    print(i)"
   ]
  },
  {
   "cell_type": "code",
   "execution_count": 49,
   "metadata": {},
   "outputs": [
    {
     "name": "stdout",
     "output_type": "stream",
     "text": [
      "0\n",
      "1\n",
      "2\n",
      "3\n",
      "1\n",
      "4\n",
      "ok\n"
     ]
    }
   ],
   "source": [
    "n=5\n",
    "i=0\n",
    "while i<n:\n",
    "    print(i)\n",
    "    if (i==3):\n",
    "        print('%d'%1)\n",
    "        # break\n",
    "    i += 1\n",
    "else:\n",
    "    print(\"ok\")"
   ]
  },
  {
   "cell_type": "code",
   "execution_count": 50,
   "metadata": {},
   "outputs": [
    {
     "name": "stdout",
     "output_type": "stream",
     "text": [
      "The number is too small!\n",
      "The number is too small!\n",
      "The number is too small!\n",
      "The number is too big!\n",
      "The number is too small!\n",
      "The number is too small!\n",
      "The number is too small!\n",
      "The number is too small!\n",
      "The number is too small!\n",
      "The number is too small!\n",
      "The number is too small!\n",
      "The number is too small!\n",
      "The number is too small!\n",
      "The number is too big!\n",
      "The number is too big!\n",
      "The number is too big!\n",
      "Bingo = 97\n"
     ]
    }
   ],
   "source": [
    "import random\n",
    "target = random.randint(1,100)\n",
    "guess = 1\n",
    "while True:\n",
    "    guess = int(input(\"input a number will be guessed (1-100), input 0 exit =>\"))\n",
    "    if target == guess or guess == 0:\n",
    "        break\n",
    "    if guess > target:\n",
    "        print(\"The number is too big!\")\n",
    "    else:\n",
    "        print(\"The number is too small!\")\n",
    "if guess == 0:\n",
    "    print(\"welcome next time\")\n",
    "else:\n",
    "    print(\"Bingo the number is \" + str(target))"
   ]
  }
 ],
 "metadata": {
  "kernelspec": {
   "display_name": ".venv",
   "language": "python",
   "name": "python3"
  },
  "language_info": {
   "codemirror_mode": {
    "name": "ipython",
    "version": 3
   },
   "file_extension": ".py",
   "mimetype": "text/x-python",
   "name": "python",
   "nbconvert_exporter": "python",
   "pygments_lexer": "ipython3",
   "version": "3.10.9"
  },
  "orig_nbformat": 4
 },
 "nbformat": 4,
 "nbformat_minor": 2
}
