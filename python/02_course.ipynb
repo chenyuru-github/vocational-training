{
 "cells": [
  {
   "attachments": {},
   "cell_type": "markdown",
   "metadata": {},
   "source": [
    "**Function**"
   ]
  },
  {
   "cell_type": "code",
   "execution_count": 1,
   "metadata": {},
   "outputs": [
    {
     "name": "stdout",
     "output_type": "stream",
     "text": [
      "hello world\n"
     ]
    }
   ],
   "source": [
    "# functon定義: input x, output f(x)\n",
    "def hello():\n",
    "  print('hello world')\n",
    "\n",
    "#呼叫function\n",
    "hello()"
   ]
  },
  {
   "cell_type": "code",
   "execution_count": 2,
   "metadata": {},
   "outputs": [
    {
     "data": {
      "text/plain": [
       "40"
      ]
     },
     "execution_count": 2,
     "metadata": {},
     "output_type": "execute_result"
    }
   ],
   "source": [
    "def funmin(m, n):\n",
    "  if m > n:\n",
    "    result = n\n",
    "  else:\n",
    "    result = m\n",
    "    \n",
    "  return result\n",
    "\n",
    "x = funmin(50,40)\n",
    "x"
   ]
  },
  {
   "cell_type": "code",
   "execution_count": 4,
   "metadata": {},
   "outputs": [
    {
     "name": "stdout",
     "output_type": "stream",
     "text": [
      "None\n"
     ]
    }
   ],
   "source": [
    "def funmin(m, n):\n",
    "  if m > n:\n",
    "    result = n\n",
    "  else:\n",
    "    result = m\n",
    "\n",
    "x = funmin(10,20)\n",
    "print(x) # what happened? nothing returned!!"
   ]
  },
  {
   "cell_type": "code",
   "execution_count": 5,
   "metadata": {},
   "outputs": [
    {
     "name": "stdout",
     "output_type": "stream",
     "text": [
      "1000\n"
     ]
    }
   ],
   "source": [
    "#eg. function of kg -> g\n",
    "\n",
    "def fun_kg_g(kg):\n",
    "  g = kg * 1000\n",
    "  print(g)\n",
    "\n",
    "fun_kg_g(1)"
   ]
  },
  {
   "cell_type": "code",
   "execution_count": null,
   "metadata": {},
   "outputs": [],
   "source": [
    "# 函式內宣告變數:區域變數(限於函式內)//函式外宣告變數:全域變數(函式外)//二者不同"
   ]
  },
  {
   "cell_type": "code",
   "execution_count": 6,
   "metadata": {},
   "outputs": [
    {
     "name": "stdout",
     "output_type": "stream",
     "text": [
      "10\n",
      "5\n"
     ]
    }
   ],
   "source": [
    "def fun():\n",
    "  var = 10 # 區域變數\n",
    "  print(var)\n",
    "\n",
    "var = 5 #全域變數\n",
    "fun()\n",
    "print(var)"
   ]
  },
  {
   "cell_type": "code",
   "execution_count": 7,
   "metadata": {},
   "outputs": [
    {
     "name": "stdout",
     "output_type": "stream",
     "text": [
      "5\n",
      "10\n",
      "10\n"
     ]
    }
   ],
   "source": [
    "def fun():\n",
    "  global var #全域變數\n",
    "  print(var) #5\n",
    "  var = 10 #全域變數\n",
    "  print(var) #10\n",
    "\n",
    "var = 5 ##全域變數\n",
    "fun()\n",
    "\n",
    "print(var) #10"
   ]
  },
  {
   "cell_type": "code",
   "execution_count": 8,
   "metadata": {},
   "outputs": [
    {
     "name": "stdout",
     "output_type": "stream",
     "text": [
      "5\n",
      "5\n"
     ]
    }
   ],
   "source": [
    "def fun():\n",
    "  print(var) ##全域變數\n",
    "\n",
    "var = 5 ##全域變數\n",
    "fun()\n",
    "\n",
    "print(var)"
   ]
  },
  {
   "cell_type": "code",
   "execution_count": 9,
   "metadata": {},
   "outputs": [
    {
     "name": "stdout",
     "output_type": "stream",
     "text": [
      "5 6\n",
      "5\n",
      "None\n"
     ]
    }
   ],
   "source": [
    "def fun():\n",
    "  x = var + 1 ## var 全域變數; x 區域變數; = assignment operator 指派運算是把等號右邊的數值傳遞給等號左邊的變數(variable)\n",
    "  print(var, x) \n",
    "\n",
    "var = 5 ##全域變數\n",
    "fun()\n",
    "\n",
    "print(var)\n",
    "print(x)"
   ]
  },
  {
   "cell_type": "code",
   "execution_count": 10,
   "metadata": {},
   "outputs": [
    {
     "ename": "UnboundLocalError",
     "evalue": "local variable 'var' referenced before assignment",
     "output_type": "error",
     "traceback": [
      "\u001b[1;31m---------------------------------------------------------------------------\u001b[0m",
      "\u001b[1;31mUnboundLocalError\u001b[0m                         Traceback (most recent call last)",
      "Cell \u001b[1;32mIn[10], line 6\u001b[0m\n\u001b[0;32m      3\u001b[0m   \u001b[39mprint\u001b[39m(var) \n\u001b[0;32m      5\u001b[0m var \u001b[39m=\u001b[39m \u001b[39m5\u001b[39m \u001b[39m##全域變數\u001b[39;00m\n\u001b[1;32m----> 6\u001b[0m fun()\n\u001b[0;32m      8\u001b[0m \u001b[39mprint\u001b[39m(var)\n",
      "Cell \u001b[1;32mIn[10], line 2\u001b[0m, in \u001b[0;36mfun\u001b[1;34m()\u001b[0m\n\u001b[0;32m      1\u001b[0m \u001b[39mdef\u001b[39;00m \u001b[39mfun\u001b[39m():\n\u001b[1;32m----> 2\u001b[0m   var \u001b[39m=\u001b[39m var \u001b[39m+\u001b[39m \u001b[39m1\u001b[39m \u001b[39m#第1個var->區域變數 #第2個var->全域變數  造成混亂 # = assignment operator 指派運算是把等號右邊的數值傳遞給等號左邊的變數(variable)\u001b[39;00m\n\u001b[0;32m      3\u001b[0m   \u001b[39mprint\u001b[39m(var)\n",
      "\u001b[1;31mUnboundLocalError\u001b[0m: local variable 'var' referenced before assignment"
     ]
    }
   ],
   "source": [
    "def fun():\n",
    "  var = var + 1 #第1個var->區域變數 #第2個var->全域變數  造成混亂 # = assignment operator 指派運算是把等號右邊的數值傳遞給等號左邊的變數(variable)\n",
    "  print(var) \n",
    "\n",
    "var = 5 ##全域變數\n",
    "fun()\n",
    "\n",
    "print(var)"
   ]
  },
  {
   "cell_type": "code",
   "execution_count": 11,
   "metadata": {},
   "outputs": [
    {
     "ename": "UnboundLocalError",
     "evalue": "local variable 'var' referenced before assignment",
     "output_type": "error",
     "traceback": [
      "\u001b[1;31m---------------------------------------------------------------------------\u001b[0m",
      "\u001b[1;31mUnboundLocalError\u001b[0m                         Traceback (most recent call last)",
      "Cell \u001b[1;32mIn[11], line 8\u001b[0m\n\u001b[0;32m      5\u001b[0m   \u001b[39mprint\u001b[39m(var)\n\u001b[0;32m      7\u001b[0m var \u001b[39m=\u001b[39m \u001b[39m5\u001b[39m \u001b[39m#全域變數\u001b[39;00m\n\u001b[1;32m----> 8\u001b[0m fun()\n\u001b[0;32m      9\u001b[0m \u001b[39mprint\u001b[39m(var)\n",
      "Cell \u001b[1;32mIn[11], line 2\u001b[0m, in \u001b[0;36mfun\u001b[1;34m()\u001b[0m\n\u001b[0;32m      1\u001b[0m \u001b[39mdef\u001b[39;00m \u001b[39mfun\u001b[39m():\n\u001b[1;32m----> 2\u001b[0m   \u001b[39mprint\u001b[39m(var) \u001b[39m#全域變數\u001b[39;00m\n\u001b[0;32m      3\u001b[0m   var \u001b[39m=\u001b[39m \u001b[39m10\u001b[39m \u001b[39m# 區域變數  #fun內同時有區域跟全域的var 造成混亂\u001b[39;00m\n\u001b[0;32m      5\u001b[0m   \u001b[39mprint\u001b[39m(var)\n",
      "\u001b[1;31mUnboundLocalError\u001b[0m: local variable 'var' referenced before assignment"
     ]
    }
   ],
   "source": [
    "def fun():\n",
    "  print(var) #全域變數\n",
    "  var = 10 # 區域變數  #fun內同時有區域跟全域的var 造成混亂\n",
    "  \n",
    "  print(var)\n",
    "\n",
    "var = 5 #全域變數\n",
    "fun()\n",
    "print(var)"
   ]
  },
  {
   "cell_type": "code",
   "execution_count": 12,
   "metadata": {},
   "outputs": [],
   "source": [
    "# 位置參數、關鍵字參數、可變參數\n",
    "# s1 & s2:位置參數,呼叫時順序必須對應，不可少一個參數! count:關鍵字參數有預設值,必須在位置參數之後,呼叫時可省略\n",
    "def fun(s1, s2, count=2):\n",
    "    print((s1+s2) * count)"
   ]
  },
  {
   "cell_type": "code",
   "execution_count": 13,
   "metadata": {},
   "outputs": [
    {
     "name": "stdout",
     "output_type": "stream",
     "text": [
      "Hello world Hello world \n"
     ]
    }
   ],
   "source": [
    "fun(\"Hello\", \" world \")"
   ]
  },
  {
   "cell_type": "code",
   "execution_count": 14,
   "metadata": {},
   "outputs": [
    {
     "name": "stdout",
     "output_type": "stream",
     "text": [
      "Hello world Hello world Hello world \n"
     ]
    }
   ],
   "source": [
    "fun(\"Hello\", \" world \", 3)"
   ]
  },
  {
   "cell_type": "code",
   "execution_count": 15,
   "metadata": {},
   "outputs": [
    {
     "ename": "TypeError",
     "evalue": "fun() missing 1 required positional argument: 's2'",
     "output_type": "error",
     "traceback": [
      "\u001b[1;31m---------------------------------------------------------------------------\u001b[0m",
      "\u001b[1;31mTypeError\u001b[0m                                 Traceback (most recent call last)",
      "Cell \u001b[1;32mIn[15], line 1\u001b[0m\n\u001b[1;32m----> 1\u001b[0m fun(\u001b[39m\"\u001b[39;49m\u001b[39mHello\u001b[39;49m\u001b[39m\"\u001b[39;49m)\n",
      "\u001b[1;31mTypeError\u001b[0m: fun() missing 1 required positional argument: 's2'"
     ]
    }
   ],
   "source": [
    "fun(\"Hello\")"
   ]
  },
  {
   "cell_type": "code",
   "execution_count": 18,
   "metadata": {},
   "outputs": [
    {
     "name": "stdout",
     "output_type": "stream",
     "text": [
      "Hello world Hello world Hello world \n"
     ]
    }
   ],
   "source": [
    "fun(\"Hello\", \" world \", count=3) # fun(\"Hello\", \" world \", 3)"
   ]
  },
  {
   "cell_type": "code",
   "execution_count": 19,
   "metadata": {},
   "outputs": [
    {
     "name": "stdout",
     "output_type": "stream",
     "text": [
      "(1, 2, 3, 4, 5, 6)\n",
      "1\n",
      "2\n",
      "3\n",
      "4\n",
      "5\n",
      "6\n"
     ]
    }
   ],
   "source": [
    "# *args:可變參數,可將不限個數位置參數,轉成tuple\n",
    "def test(*args):\n",
    "    print(args)\n",
    "    for i in args:\n",
    "        print(i)\n",
    "\n",
    "test(1,2,3,4,5,6)"
   ]
  },
  {
   "cell_type": "code",
   "execution_count": null,
   "metadata": {},
   "outputs": [],
   "source": [
    "# **kargs:可變參數,輸入關鍵字參數轉成dict傳進函式"
   ]
  },
  {
   "cell_type": "code",
   "execution_count": 20,
   "metadata": {},
   "outputs": [
    {
     "name": "stdout",
     "output_type": "stream",
     "text": [
      "{'male': 'boy', 'female': 'girl'}\n",
      "kargs: male -> boy\n",
      "kargs: female -> girl\n"
     ]
    }
   ],
   "source": [
    "def test(**kargs):\n",
    "  print(kargs)\n",
    "  for i in kargs:\n",
    "    print('kargs: {} -> {}'.format(i, kargs[i]))\n",
    "\n",
    "test(male='boy', female='girl')"
   ]
  },
  {
   "cell_type": "code",
   "execution_count": 22,
   "metadata": {},
   "outputs": [
    {
     "name": "stdout",
     "output_type": "stream",
     "text": [
      "{'male': 'boy', 'fmale': 'girl'}\n",
      "kargs: male -> boy\n",
      "kargs: fmale -> girl\n"
     ]
    }
   ],
   "source": [
    "Dict1 = {'male': 'boy', 'fmale': 'girl'}\n",
    "test(**Dict1) # 可以將 dict 轉成關鍵字參數"
   ]
  },
  {
   "cell_type": "code",
   "execution_count": 21,
   "metadata": {},
   "outputs": [
    {
     "name": "stdout",
     "output_type": "stream",
     "text": [
      "arg= 1\n",
      "*args= (2, 3)\n",
      "**kargs= {'x': 4, 'y': 5}\n"
     ]
    }
   ],
   "source": [
    "#guess\n",
    "def guess(arg, *args, **kargs):\n",
    "  print('arg=', arg) # 1\n",
    "  print('*args=', args) # 2, 3\n",
    "  print('**kargs=', kargs) # \n",
    "\n",
    "guess(1,2,3,x=4,y=5)"
   ]
  },
  {
   "cell_type": "code",
   "execution_count": 23,
   "metadata": {},
   "outputs": [
    {
     "ename": "SyntaxError",
     "evalue": "positional argument follows keyword argument (2720891448.py, line 1)",
     "output_type": "error",
     "traceback": [
      "\u001b[1;36m  Cell \u001b[1;32mIn[23], line 1\u001b[1;36m\u001b[0m\n\u001b[1;33m    guess(1,x=4,y=5,2,3)\u001b[0m\n\u001b[1;37m                       ^\u001b[0m\n\u001b[1;31mSyntaxError\u001b[0m\u001b[1;31m:\u001b[0m positional argument follows keyword argument\n"
     ]
    }
   ],
   "source": [
    "guess(1,x=4,y=5,2,3)"
   ]
  },
  {
   "attachments": {},
   "cell_type": "markdown",
   "metadata": {},
   "source": [
    "**Lambda**"
   ]
  },
  {
   "cell_type": "code",
   "execution_count": 24,
   "metadata": {},
   "outputs": [
    {
     "data": {
      "text/plain": [
       "50"
      ]
     },
     "execution_count": 24,
     "metadata": {},
     "output_type": "execute_result"
    }
   ],
   "source": [
    "# 匿名函式會自動return結果  lambda arg1,arg2: expression(算式)\n",
    "# def f(x):\n",
    "#  return 10 * x\n",
    "\n",
    "f = lambda x: 10 * x\n",
    "f(5)"
   ]
  },
  {
   "attachments": {},
   "cell_type": "markdown",
   "metadata": {},
   "source": [
    "**Exercise 1.** 試建一函式將攝氏溫度轉換成華氏"
   ]
  },
  {
   "cell_type": "code",
   "execution_count": 27,
   "metadata": {},
   "outputs": [
    {
     "data": {
      "text/plain": [
       "86.0"
      ]
     },
     "execution_count": 27,
     "metadata": {},
     "output_type": "execute_result"
    }
   ],
   "source": [
    "def cel_to_fah(cel):\n",
    "  #多行註解\n",
    "  '''華式轉攝式\n",
    "    華氏溫度 = 攝氏溫度 * 1.8 + 32\n",
    "  '''\n",
    "  Fah = cel * 1.8 + 32\n",
    "\n",
    "  return Fah\n",
    "\n",
    "cel_to_fah(30)"
   ]
  },
  {
   "attachments": {},
   "cell_type": "markdown",
   "metadata": {},
   "source": [
    "**Exercise 2.**試建一Lamda將華氏溫度轉換成攝氏"
   ]
  },
  {
   "cell_type": "code",
   "execution_count": 30,
   "metadata": {},
   "outputs": [
    {
     "data": {
      "text/plain": [
       "35.0"
      ]
     },
     "execution_count": 30,
     "metadata": {},
     "output_type": "execute_result"
    }
   ],
   "source": [
    "cel = lambda Fah : 5/9*(Fah-32)\n",
    "cel(95)"
   ]
  },
  {
   "attachments": {},
   "cell_type": "markdown",
   "metadata": {},
   "source": [
    "**Exercise 3.** 試建一函式funfruit,輸入位置參數 3 及可變參數 dict={'A':'Apple','B':'Banana','C':'Cherry'},然後呼叫funfruit輸出:\n",
    "\n",
    "\"今日供應3種水果:Apple, Banana and Cherry\""
   ]
  },
  {
   "cell_type": "code",
   "execution_count": 34,
   "metadata": {},
   "outputs": [
    {
     "name": "stdout",
     "output_type": "stream",
     "text": [
      "今天供應3種水果 : Apple, Banana and Cherry\n"
     ]
    }
   ],
   "source": [
    "dict={'A':'Apple','B':'Banana','C':'Cherry'}\n",
    "\n",
    "def funfruit(arg, **kargs):\n",
    "    print(\"今天供應{}種水果 : {}, {} and {}\".format(arg, kargs['A'], kargs['B'], kargs['C']))\n",
    "\n",
    "funfruit(3, **dict)"
   ]
  },
  {
   "cell_type": "code",
   "execution_count": 35,
   "metadata": {},
   "outputs": [
    {
     "name": "stdout",
     "output_type": "stream",
     "text": [
      "5\n",
      "6\n",
      "6\n",
      "-----------\n",
      "6\n",
      "7\n",
      "7\n"
     ]
    }
   ],
   "source": [
    "def fun():\n",
    "  global var #全域變數\n",
    "  print(var)\n",
    "  var = var + 1#全域變數\n",
    "  print(var)\n",
    "\n",
    "var = 5 ##全域變數\n",
    "fun()\n",
    "print(var)\n",
    "print('-----------')\n",
    "fun()\n",
    "print(var)"
   ]
  },
  {
   "cell_type": "code",
   "execution_count": 1,
   "metadata": {},
   "outputs": [],
   "source": [
    "# Class定義類別,包含變數及函式\n",
    "# 類別產生實例Instance,包含屬性attribute及方法method\n",
    "class Student(): # class 之 () 可省略, 但 function or method 不可省略 ()\n",
    "\n",
    "  school = 'elemental' #類別屬性\n",
    "\n",
    "  def __init__(Self, a, s): # (__2個底線) def __init__ 是產生實例後首先執行之方法,參數中 self 指 class 所定義之 Instance\n",
    "    Self.age = a #實例屬性\n",
    "    Self.sex = s #實例屬性\n",
    "\n",
    "  def have_a_birthday(Self): #實例方法\n",
    "    Self.age += 1 # self.age = self.age + 1"
   ]
  },
  {
   "cell_type": "code",
   "execution_count": 6,
   "metadata": {},
   "outputs": [
    {
     "data": {
      "text/plain": [
       "10"
      ]
     },
     "execution_count": 6,
     "metadata": {},
     "output_type": "execute_result"
    }
   ],
   "source": [
    "John = Student(10,\"m\")\n",
    "John.age"
   ]
  },
  {
   "cell_type": "code",
   "execution_count": 7,
   "metadata": {},
   "outputs": [
    {
     "data": {
      "text/plain": [
       "'elemental'"
      ]
     },
     "execution_count": 7,
     "metadata": {},
     "output_type": "execute_result"
    }
   ],
   "source": [
    "John.school"
   ]
  },
  {
   "cell_type": "code",
   "execution_count": 8,
   "metadata": {},
   "outputs": [
    {
     "data": {
      "text/plain": [
       "9"
      ]
     },
     "execution_count": 8,
     "metadata": {},
     "output_type": "execute_result"
    }
   ],
   "source": [
    "Mary = Student(9, 'F')\n",
    "Mary.age"
   ]
  },
  {
   "cell_type": "code",
   "execution_count": 24,
   "metadata": {},
   "outputs": [
    {
     "data": {
      "text/plain": [
       "25"
      ]
     },
     "execution_count": 24,
     "metadata": {},
     "output_type": "execute_result"
    }
   ],
   "source": [
    "Mary.have_a_birthday() # method 加 () (attribute不加)\n",
    "Mary.age"
   ]
  },
  {
   "cell_type": "code",
   "execution_count": 25,
   "metadata": {},
   "outputs": [],
   "source": [
    "class Studgrade():\n",
    "\n",
    "  def __init__(self, score):\n",
    "    self.__score = score # __score: 隱藏屬性 private attribute\n",
    "    if score >= 60:\n",
    "     self.grade = 'pass'\n",
    "    else:\n",
    "     self.grade = 'fail'\n",
    "\n",
    "  def __hidden(self): # __hidden: private method 只在class內執行\n",
    "    print('score = ', self.__score)\n",
    "\n",
    "  def show(self):\n",
    "    self.__hidden()"
   ]
  },
  {
   "cell_type": "code",
   "execution_count": 26,
   "metadata": {},
   "outputs": [
    {
     "data": {
      "text/plain": [
       "'pass'"
      ]
     },
     "execution_count": 26,
     "metadata": {},
     "output_type": "execute_result"
    }
   ],
   "source": [
    "Jack = Studgrade(70)\n",
    "Jack.grade"
   ]
  },
  {
   "cell_type": "code",
   "execution_count": 27,
   "metadata": {},
   "outputs": [
    {
     "ename": "AttributeError",
     "evalue": "'Studgrade' object has no attribute '__score'",
     "output_type": "error",
     "traceback": [
      "\u001b[1;31m---------------------------------------------------------------------------\u001b[0m",
      "\u001b[1;31mAttributeError\u001b[0m                            Traceback (most recent call last)",
      "Cell \u001b[1;32mIn[27], line 1\u001b[0m\n\u001b[1;32m----> 1\u001b[0m Jack\u001b[39m.\u001b[39;49m__score \u001b[39m# private\u001b[39;00m\n",
      "\u001b[1;31mAttributeError\u001b[0m: 'Studgrade' object has no attribute '__score'"
     ]
    }
   ],
   "source": [
    "Jack.__score # private"
   ]
  },
  {
   "cell_type": "code",
   "execution_count": 28,
   "metadata": {},
   "outputs": [
    {
     "ename": "AttributeError",
     "evalue": "'Studgrade' object has no attribute '__hidden'",
     "output_type": "error",
     "traceback": [
      "\u001b[1;31m---------------------------------------------------------------------------\u001b[0m",
      "\u001b[1;31mAttributeError\u001b[0m                            Traceback (most recent call last)",
      "Cell \u001b[1;32mIn[28], line 1\u001b[0m\n\u001b[1;32m----> 1\u001b[0m Jack\u001b[39m.\u001b[39;49m__hidden() \u001b[39m# private\u001b[39;00m\n",
      "\u001b[1;31mAttributeError\u001b[0m: 'Studgrade' object has no attribute '__hidden'"
     ]
    }
   ],
   "source": [
    "Jack.__hidden() # private"
   ]
  },
  {
   "cell_type": "code",
   "execution_count": 29,
   "metadata": {},
   "outputs": [
    {
     "name": "stdout",
     "output_type": "stream",
     "text": [
      "score =  70\n"
     ]
    }
   ],
   "source": [
    "Jack.show()"
   ]
  },
  {
   "attachments": {},
   "cell_type": "markdown",
   "metadata": {},
   "source": [
    "**Exercise 4.** 建立 Vehicle class 具有 max_speed 及 mileage 實例屬性,並產生一輛yaris實例(max_speed=200 及 mileage=1000),另建實例方法 turbo 將 max_speed * 2"
   ]
  },
  {
   "cell_type": "code",
   "execution_count": 38,
   "metadata": {},
   "outputs": [
    {
     "name": "stdout",
     "output_type": "stream",
     "text": [
      "200 1000\n",
      "400 1000\n"
     ]
    }
   ],
   "source": [
    "class Vehicle():\n",
    "    def __init__(self, speed, mile):\n",
    "        self.max_speed = speed\n",
    "        self.mileage = mile\n",
    "    \n",
    "    def turbo(self):\n",
    "        self.max_speed *= 2\n",
    "\n",
    "yaris = Vehicle(200, 1000)\n",
    "print(yaris.max_speed, yaris.mileage)\n",
    "\n",
    "yaris.turbo()\n",
    "print(yaris.max_speed, yaris.mileage)\n"
   ]
  }
 ],
 "metadata": {
  "kernelspec": {
   "display_name": ".venv",
   "language": "python",
   "name": "python3"
  },
  "language_info": {
   "codemirror_mode": {
    "name": "ipython",
    "version": 3
   },
   "file_extension": ".py",
   "mimetype": "text/x-python",
   "name": "python",
   "nbconvert_exporter": "python",
   "pygments_lexer": "ipython3",
   "version": "3.10.9"
  },
  "orig_nbformat": 4
 },
 "nbformat": 4,
 "nbformat_minor": 2
}
