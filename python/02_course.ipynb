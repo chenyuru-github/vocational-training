{
 "cells": [
  {
   "attachments": {},
   "cell_type": "markdown",
   "metadata": {},
   "source": [
    "**Function**"
   ]
  },
  {
   "cell_type": "code",
   "execution_count": null,
   "metadata": {},
   "outputs": [],
   "source": [
    "# functon定義: input x, output f(x)\n",
    "def hello():\n",
    "  print('hello world')\n",
    "\n",
    "#呼叫function\n",
    "hello()"
   ]
  },
  {
   "cell_type": "code",
   "execution_count": null,
   "metadata": {},
   "outputs": [],
   "source": [
    "def funmin(m, n):\n",
    "  if m > n:\n",
    "    result = n\n",
    "  else:\n",
    "    result = m\n",
    "    \n",
    "  return result\n",
    "\n",
    "x = funmin(50,40)\n",
    "x"
   ]
  },
  {
   "cell_type": "code",
   "execution_count": null,
   "metadata": {},
   "outputs": [],
   "source": [
    "def funmin(m, n):\n",
    "  if m > n:\n",
    "    result = n\n",
    "  else:\n",
    "    result = m\n",
    "\n",
    "x = funmin(10,20)\n",
    "print(x) # what happened? nothing returned!!"
   ]
  },
  {
   "cell_type": "code",
   "execution_count": null,
   "metadata": {},
   "outputs": [],
   "source": [
    "#eg. function of kg -> g\n",
    "\n",
    "def fun_kg_g(kg):\n",
    "  g = kg * 1000\n",
    "  print(g)\n",
    "\n",
    "fun_kg_g(1)"
   ]
  },
  {
   "cell_type": "code",
   "execution_count": null,
   "metadata": {},
   "outputs": [],
   "source": [
    "# 函式內宣告變數:區域變數(限於函式內)//函式外宣告變數:全域變數(函式外)//二者不同"
   ]
  },
  {
   "cell_type": "code",
   "execution_count": null,
   "metadata": {},
   "outputs": [],
   "source": [
    "def fun():\n",
    "  var = 10 # 區域變數\n",
    "  print(var)\n",
    "\n",
    "var = 5 #全域變數\n",
    "fun()\n",
    "print(var)"
   ]
  },
  {
   "cell_type": "code",
   "execution_count": null,
   "metadata": {},
   "outputs": [],
   "source": [
    "def fun():\n",
    "  global var #全域變數\n",
    "  print(var) #5\n",
    "  var = 10 #全域變數\n",
    "  print(var) #10\n",
    "\n",
    "var = 5 ##全域變數\n",
    "fun()\n",
    "\n",
    "print(var) #10"
   ]
  },
  {
   "cell_type": "code",
   "execution_count": null,
   "metadata": {},
   "outputs": [],
   "source": [
    "def fun():\n",
    "  print(var) ##全域變數\n",
    "\n",
    "var = 5 ##全域變數\n",
    "fun()\n",
    "\n",
    "print(var)"
   ]
  },
  {
   "cell_type": "code",
   "execution_count": null,
   "metadata": {},
   "outputs": [],
   "source": [
    "def fun():\n",
    "  x = var + 1 ## var 全域變數; x 區域變數; = assignment operator 指派運算是把等號右邊的數值傳遞給等號左邊的變數(variable)\n",
    "  print(var, x) \n",
    "\n",
    "var = 5 ##全域變數\n",
    "fun()\n",
    "\n",
    "print(var)\n",
    "print(x)"
   ]
  },
  {
   "cell_type": "code",
   "execution_count": null,
   "metadata": {},
   "outputs": [],
   "source": [
    "def fun():\n",
    "  var = var + 1 #第1個var->區域變數 #第2個var->全域變數  造成混亂 # = assignment operator 指派運算是把等號右邊的數值傳遞給等號左邊的變數(variable)\n",
    "  print(var) \n",
    "\n",
    "var = 5 ##全域變數\n",
    "fun()\n",
    "\n",
    "print(var)"
   ]
  },
  {
   "cell_type": "code",
   "execution_count": null,
   "metadata": {},
   "outputs": [],
   "source": [
    "def fun():\n",
    "  print(var) #全域變數\n",
    "  var = 10 # 區域變數  #fun內同時有區域跟全域的var 造成混亂\n",
    "  \n",
    "  print(var)\n",
    "\n",
    "var = 5 #全域變數\n",
    "fun()\n",
    "print(var)"
   ]
  },
  {
   "cell_type": "code",
   "execution_count": null,
   "metadata": {},
   "outputs": [],
   "source": [
    "# 位置參數、關鍵字參數、可變參數\n",
    "# s1 & s2:位置參數,呼叫時順序必須對應，不可少一個參數! count:關鍵字參數有預設值,必須在位置參數之後,呼叫時可省略\n",
    "def fun(s1, s2, count=2):\n",
    "    print((s1+s2) * count)"
   ]
  },
  {
   "cell_type": "code",
   "execution_count": null,
   "metadata": {},
   "outputs": [],
   "source": [
    "fun(\"Hello\", \" world \")"
   ]
  },
  {
   "cell_type": "code",
   "execution_count": null,
   "metadata": {},
   "outputs": [],
   "source": [
    "fun(\"Hello\", \" world \", 3)"
   ]
  },
  {
   "cell_type": "code",
   "execution_count": null,
   "metadata": {},
   "outputs": [],
   "source": [
    "fun(\"Hello\")"
   ]
  },
  {
   "cell_type": "code",
   "execution_count": null,
   "metadata": {},
   "outputs": [],
   "source": [
    "fun(\"Hello\", \" world \", count=3) # fun(\"Hello\", \" world \", 3)"
   ]
  },
  {
   "cell_type": "code",
   "execution_count": null,
   "metadata": {},
   "outputs": [],
   "source": [
    "# *args:可變參數,可將不限個數位置參數,轉成tuple\n",
    "def test(*args):\n",
    "    print(args)\n",
    "    for i in args:\n",
    "        print(i)\n",
    "\n",
    "test(1,2,3,4,5,6)"
   ]
  },
  {
   "cell_type": "code",
   "execution_count": null,
   "metadata": {},
   "outputs": [],
   "source": [
    "# **kargs:可變參數,輸入關鍵字參數轉成dict傳進函式"
   ]
  },
  {
   "cell_type": "code",
   "execution_count": null,
   "metadata": {},
   "outputs": [],
   "source": [
    "def test(**kargs):\n",
    "  print(kargs)\n",
    "  for i in kargs:\n",
    "    print('kargs: {} -> {}'.format(i, kargs[i]))\n",
    "\n",
    "test(male='boy', female='girl')"
   ]
  },
  {
   "cell_type": "code",
   "execution_count": null,
   "metadata": {},
   "outputs": [],
   "source": [
    "Dict1 = {'male': 'boy', 'fmale': 'girl'}\n",
    "test(**Dict1) # 可以將 dict 轉成關鍵字參數"
   ]
  },
  {
   "cell_type": "code",
   "execution_count": null,
   "metadata": {},
   "outputs": [],
   "source": [
    "#guess\n",
    "def guess(arg, *args, **kargs):\n",
    "  print('arg=', arg) # 1\n",
    "  print('*args=', args) # 2, 3\n",
    "  print('**kargs=', kargs) # \n",
    "\n",
    "guess(1,2,3,x=4,y=5)"
   ]
  },
  {
   "cell_type": "code",
   "execution_count": null,
   "metadata": {},
   "outputs": [],
   "source": [
    "guess(1,x=4,y=5,2,3)"
   ]
  },
  {
   "attachments": {},
   "cell_type": "markdown",
   "metadata": {},
   "source": [
    "**Lambda**"
   ]
  },
  {
   "cell_type": "code",
   "execution_count": null,
   "metadata": {},
   "outputs": [],
   "source": [
    "# 匿名函式會自動return結果  lambda arg1,arg2: expression(算式)\n",
    "# def f(x):\n",
    "#  return 10 * x\n",
    "\n",
    "f = lambda x: 10 * x\n",
    "f(5)"
   ]
  },
  {
   "attachments": {},
   "cell_type": "markdown",
   "metadata": {},
   "source": [
    "**Exercise 1.** 試建一函式將攝氏溫度轉換成華氏"
   ]
  },
  {
   "cell_type": "code",
   "execution_count": null,
   "metadata": {},
   "outputs": [],
   "source": [
    "def cel_to_fah(cel):\n",
    "  #多行註解\n",
    "  '''華式轉攝式\n",
    "    華氏溫度 = 攝氏溫度 * 1.8 + 32\n",
    "  '''\n",
    "  Fah = cel * 1.8 + 32\n",
    "\n",
    "  return Fah\n",
    "\n",
    "cel_to_fah(30)"
   ]
  },
  {
   "attachments": {},
   "cell_type": "markdown",
   "metadata": {},
   "source": [
    "**Exercise 2.**試建一Lamda將華氏溫度轉換成攝氏"
   ]
  },
  {
   "cell_type": "code",
   "execution_count": null,
   "metadata": {},
   "outputs": [],
   "source": [
    "cel = lambda Fah : 5/9*(Fah-32)\n",
    "cel(95)"
   ]
  },
  {
   "attachments": {},
   "cell_type": "markdown",
   "metadata": {},
   "source": [
    "**Exercise 3.** 試建一函式funfruit,輸入位置參數 3 及可變參數 dict={'A':'Apple','B':'Banana','C':'Cherry'},然後呼叫funfruit輸出:\n",
    "\n",
    "\"今日供應3種水果:Apple, Banana and Cherry\""
   ]
  },
  {
   "cell_type": "code",
   "execution_count": null,
   "metadata": {},
   "outputs": [],
   "source": [
    "dict={'A':'Apple','B':'Banana','C':'Cherry'}\n",
    "\n",
    "def funfruit(arg, **kargs):\n",
    "    print(\"今天供應{}種水果 : {}, {} and {}\".format(arg, kargs['A'], kargs['B'], kargs['C']))\n",
    "\n",
    "funfruit(3, **dict)"
   ]
  },
  {
   "cell_type": "code",
   "execution_count": null,
   "metadata": {},
   "outputs": [],
   "source": [
    "def fun():\n",
    "  global var #全域變數\n",
    "  print(var)\n",
    "  var = var + 1#全域變數\n",
    "  print(var)\n",
    "\n",
    "var = 5 ##全域變數\n",
    "fun()\n",
    "print(var)\n",
    "print('-----------')\n",
    "fun()\n",
    "print(var)"
   ]
  },
  {
   "cell_type": "code",
   "execution_count": null,
   "metadata": {},
   "outputs": [],
   "source": [
    "# Class定義類別,包含變數及函式\n",
    "# 類別產生實例Instance,包含屬性attribute及方法method\n",
    "class Student(): # class 之 () 可省略, 但 function or method 不可省略 ()\n",
    "\n",
    "  school = 'elemental' #類別屬性\n",
    "\n",
    "  def __init__(Self, a, s): # (__2個底線) def __init__ 是產生實例後首先執行之方法,參數中 self 指 class 所定義之 Instance\n",
    "    Self.age = a #實例屬性\n",
    "    Self.sex = s #實例屬性\n",
    "\n",
    "  def have_a_birthday(Self): #實例方法\n",
    "    Self.age += 1 # self.age = self.age + 1"
   ]
  },
  {
   "cell_type": "code",
   "execution_count": null,
   "metadata": {},
   "outputs": [],
   "source": [
    "John = Student(10,\"m\")\n",
    "John.age"
   ]
  },
  {
   "cell_type": "code",
   "execution_count": null,
   "metadata": {},
   "outputs": [],
   "source": [
    "John.school"
   ]
  },
  {
   "cell_type": "code",
   "execution_count": null,
   "metadata": {},
   "outputs": [],
   "source": [
    "Mary = Student(9, 'F')\n",
    "Mary.age"
   ]
  },
  {
   "cell_type": "code",
   "execution_count": null,
   "metadata": {},
   "outputs": [],
   "source": [
    "Mary.have_a_birthday() # method 加 () (attribute不加)\n",
    "Mary.age"
   ]
  },
  {
   "cell_type": "code",
   "execution_count": null,
   "metadata": {},
   "outputs": [],
   "source": [
    "class Studgrade():\n",
    "\n",
    "  def __init__(self, score):\n",
    "    self.__score = score # __score: 隱藏屬性 private attribute\n",
    "    if score >= 60:\n",
    "     self.grade = 'pass'\n",
    "    else:\n",
    "     self.grade = 'fail'\n",
    "\n",
    "  def __hidden(self): # __hidden: private method 只在class內執行\n",
    "    print('score = ', self.__score)\n",
    "\n",
    "  def show(self):\n",
    "    self.__hidden()"
   ]
  },
  {
   "cell_type": "code",
   "execution_count": null,
   "metadata": {},
   "outputs": [],
   "source": [
    "Jack = Studgrade(70)\n",
    "Jack.grade"
   ]
  },
  {
   "cell_type": "code",
   "execution_count": null,
   "metadata": {},
   "outputs": [],
   "source": [
    "Jack.__score # private"
   ]
  },
  {
   "cell_type": "code",
   "execution_count": null,
   "metadata": {},
   "outputs": [],
   "source": [
    "Jack.__hidden() # private"
   ]
  },
  {
   "cell_type": "code",
   "execution_count": null,
   "metadata": {},
   "outputs": [],
   "source": [
    "Jack.show()"
   ]
  },
  {
   "attachments": {},
   "cell_type": "markdown",
   "metadata": {},
   "source": [
    "**Exercise 4.** 建立 Vehicle class 具有 max_speed 及 mileage 實例屬性,並產生一輛yaris實例(max_speed=200 及 mileage=1000),另建實例方法 turbo 將 max_speed * 2"
   ]
  },
  {
   "cell_type": "code",
   "execution_count": null,
   "metadata": {},
   "outputs": [],
   "source": [
    "class Vehicle():\n",
    "    def __init__(self, speed, mile):\n",
    "        self.max_speed = speed\n",
    "        self.mileage = mile\n",
    "    \n",
    "    def turbo(self):\n",
    "        self.max_speed *= 2\n",
    "\n",
    "yaris = Vehicle(200, 1000)\n",
    "print(yaris.max_speed, yaris.mileage)\n",
    "\n",
    "yaris.turbo()\n",
    "print(yaris.max_speed, yaris.mileage)\n"
   ]
  },
  {
   "attachments": {},
   "cell_type": "markdown",
   "metadata": {},
   "source": [
    "**Exercise 5.** 請將Ex. 4. Vehicle class 之 mileage 實例屬性隱藏(改為private),然後定義一實例方法(method)將mileage列印出來"
   ]
  },
  {
   "cell_type": "code",
   "execution_count": null,
   "metadata": {},
   "outputs": [],
   "source": [
    "class Vehicle:\n",
    "    def __init__(self, max_speed, mileage):\n",
    "        self.max_speed = max_speed\n",
    "        self.__mileage = mileage\n",
    "    def show(self):\n",
    "      print('mileage =', self.__mileage)\n",
    "\n",
    "yaris = Vehicle(200, 1000)"
   ]
  },
  {
   "cell_type": "code",
   "execution_count": null,
   "metadata": {},
   "outputs": [],
   "source": [
    "print(yaris.__mileage)"
   ]
  },
  {
   "cell_type": "code",
   "execution_count": null,
   "metadata": {},
   "outputs": [],
   "source": [
    "yaris.show()"
   ]
  },
  {
   "attachments": {},
   "cell_type": "markdown",
   "metadata": {},
   "source": [
    "**Inheritance**"
   ]
  },
  {
   "cell_type": "code",
   "execution_count": null,
   "metadata": {},
   "outputs": [],
   "source": [
    "class Student():\n",
    "  school = 'elemental' \n",
    "\n",
    "  def __init__(self, a, s): \n",
    "    self.age = a \n",
    "    self.sex = s \n",
    "\n",
    "  def have_a_birthday(self):\n",
    "    self.age += 1\n",
    "\n",
    "class Gifted_Student(Student): # 繼承父類別(Student Class)的 attributes 及 methods\n",
    "  \"\"\"\n",
    "    A Gifted student: behaves exactly like a Student \n",
    "    but also has a new class attribute IQ.\n",
    "  \"\"\"\n",
    "  IQ = 'Gifted'\n",
    "\n",
    "Jenny = Gifted_Student(9, 'F')\n",
    "Jenny.IQ # 子類別(Gifted_Student Class)的 attributes"
   ]
  },
  {
   "cell_type": "code",
   "execution_count": null,
   "metadata": {},
   "outputs": [],
   "source": [
    "Jenny.have_a_birthday() # 繼承的 methods\n",
    "Jenny.age # 繼承的 attributes"
   ]
  },
  {
   "cell_type": "code",
   "execution_count": null,
   "metadata": {},
   "outputs": [],
   "source": [
    "Jenny.school # 繼承的 attributes"
   ]
  },
  {
   "cell_type": "code",
   "execution_count": null,
   "metadata": {},
   "outputs": [],
   "source": [
    "class Student():\n",
    "  school = 'elemental' \n",
    "\n",
    "  def __init__(self, a, s): \n",
    "    self.age = a \n",
    "    self.sex = s \n",
    "\n",
    "  def have_a_birthday(self):\n",
    "    self.age += 1\n",
    "\n",
    "class Gifted_Student(Student): # 覆寫父類別(Student Class)的 attributes 及 methods\n",
    "\n",
    "  def __init__(self, a, i): # 覆寫父類別(Student Class)的 attributes\n",
    "\n",
    "    self.age = a + 1\n",
    "    self.IQ = i\n",
    "\n",
    "  def have_another_birthday(self):\n",
    "    super().have_a_birthday() # super() 呼叫父類別(Student Class)的 methods\n",
    "\n",
    "Jenny = Gifted_Student(7, 'genius')\n",
    "\n",
    "Jenny.IQ # 子類別(Gifted_Student Class)的 attributes"
   ]
  },
  {
   "cell_type": "code",
   "execution_count": null,
   "metadata": {},
   "outputs": [],
   "source": [
    "Jenny.age # 子類別(Gifted_Student Class)的 attributes"
   ]
  },
  {
   "cell_type": "code",
   "execution_count": null,
   "metadata": {},
   "outputs": [],
   "source": [
    "Jenny.school # 繼承的 attributes "
   ]
  },
  {
   "cell_type": "code",
   "execution_count": null,
   "metadata": {},
   "outputs": [],
   "source": [
    "Jenny.have_a_birthday() # 繼承的 methods\n",
    "Jenny.age # 子類別(Gifted_Student Class)的 attributes"
   ]
  },
  {
   "cell_type": "code",
   "execution_count": null,
   "metadata": {},
   "outputs": [],
   "source": [
    "Jenny.have_another_birthday() # 子類別(Gifted_Student Class)的 method--have_another_birthday() 利用 super() 呼叫父類別(Student Class)的 methods\n",
    "Jenny.age # 子類別(Gifted_Student Class)的 attributes"
   ]
  },
  {
   "attachments": {},
   "cell_type": "markdown",
   "metadata": {},
   "source": [
    "**Exercise 6.** 試答下列 print 的結果"
   ]
  },
  {
   "cell_type": "code",
   "execution_count": null,
   "metadata": {},
   "outputs": [],
   "source": [
    "class ACounter():\n",
    "    __privateCount = 0 \n",
    "    publicCount = 0 \n",
    " \n",
    "    def count(self):\n",
    "        self.__privateCount += 1\n",
    "        self.publicCount += 1\n",
    " \n",
    "acounter = ACounter()\n",
    "acounter.count()\n",
    "acounter.count()\n",
    "print(acounter.publicCount) # answer:\n",
    "print(acounter.__privateCount) # answer:"
   ]
  },
  {
   "cell_type": "code",
   "execution_count": null,
   "metadata": {},
   "outputs": [],
   "source": [
    "a1counter = ACounter()\n",
    "print(a1counter.publicCount) # answer:"
   ]
  },
  {
   "cell_type": "code",
   "execution_count": null,
   "metadata": {},
   "outputs": [],
   "source": [
    "class BCounter(ACounter):\n",
    "    pass # nothing happens, but avoid error when empty code is not allowed.\n",
    "\n",
    "bcounter = BCounter()\n",
    "bcounter.count()\n",
    "print(bcounter.publicCount) # answer:"
   ]
  },
  {
   "attachments": {},
   "cell_type": "markdown",
   "metadata": {},
   "source": [
    "**Exercise 7.** 試答下列 print 的結果"
   ]
  },
  {
   "cell_type": "code",
   "execution_count": null,
   "metadata": {},
   "outputs": [],
   "source": [
    "class ACounter():\n",
    "  def __init__(self):\n",
    "    self.publicCount = 0 \n",
    " \n",
    "  def count(self):\n",
    "    self.publicCount += 1\n",
    " \n",
    "acounter = ACounter()\n",
    "acounter.count()\n",
    "acounter.count()\n",
    "print(acounter.publicCount) # answer:"
   ]
  },
  {
   "cell_type": "code",
   "execution_count": null,
   "metadata": {},
   "outputs": [],
   "source": [
    "class BCounter(ACounter):\n",
    "  def __init__(self):\n",
    "    self.publicCount = 10 \n",
    "    pass\n",
    "\n",
    "bcounter = BCounter()\n",
    "bcounter.count()\n",
    "bcounter.count()\n",
    "print(bcounter.publicCount) # answer:"
   ]
  },
  {
   "attachments": {},
   "cell_type": "markdown",
   "metadata": {},
   "source": [
    "**Finally project:**\n",
    "請寫出一個 python function 進行密碼檢查：\n",
    "1. 8個字元\n",
    "2. 包含大寫字母得20分\n",
    "3. 包含小寫字母得20分\n",
    "4. 包含數字得20分\n",
    "5. 包含space得20分\n",
    "6. 包含非上列其他字元得20分\n",
    "\n",
    "請使用迴圈結構對輸入密碼檢查評分,並提出改善建議,並要求重新輸入密碼直到滿分100分才算成功！\n",
    "\n",
    "提示：\n",
    "\n",
    "import string\n",
    "\n",
    "string.ascii_lowercase\n",
    "\n",
    "string.ascii_uppercase\n",
    "\n",
    "string.digits"
   ]
  },
  {
   "cell_type": "code",
   "execution_count": 1,
   "metadata": {},
   "outputs": [
    {
     "name": "stdout",
     "output_type": "stream",
     "text": [
      "Thank you sing up\n",
      "12.466067790985107\n"
     ]
    }
   ],
   "source": [
    "import string\n",
    "import time\n",
    "\n",
    "startime=time.time()\n",
    "setCheckUpper = {char for char in string.ascii_uppercase}\n",
    "setCheckLower = {char for char in string.ascii_lowercase}\n",
    "setCheckDigit = {char for char in string.digits}\n",
    "setCheckAll = setCheckUpper.union(setCheckLower, setCheckDigit, \" \") \n",
    "\n",
    "while True:\n",
    "    psw =input(\"Sign up password\")\n",
    "    pswSet={char for char in psw}\n",
    "\n",
    "    if len(psw) >= 8 :\n",
    "        strSug=\"\"\n",
    "        secretPoint = 0\n",
    "        if not setCheckUpper.isdisjoint(pswSet):\n",
    "            secretPoint += 20\n",
    "            # print (setCheckUpper)\n",
    "        else:\n",
    "            strSug += \" Upper,\"\n",
    "\n",
    "        if not setCheckLower.isdisjoint(pswSet):\n",
    "            secretPoint += 20\n",
    "            # print (setCheckLower)\n",
    "        else:\n",
    "            strSug += \" Lower,\"\n",
    "\n",
    "        if not setCheckDigit.isdisjoint(pswSet):\n",
    "            secretPoint += 20\n",
    "            # print (setCheckDigit)\n",
    "        else:\n",
    "            strSug += \" Digit,\"\n",
    "\n",
    "        if \" \" in psw :\n",
    "            secretPoint += 20\n",
    "            # print (\"Space\")\n",
    "        else:\n",
    "            strSug += \" Space,\"\n",
    "\n",
    "        if not len(pswSet - setCheckAll) == 0 :\n",
    "            secretPoint += 20\n",
    "        else:\n",
    "            strSug += \" !?#..,\"\n",
    "        \n",
    "        # print (secretPoint)\n",
    "        if secretPoint == 100:\n",
    "            print (\"Thank you sing up\")\n",
    "            break\n",
    "        else:\n",
    "            print (\"You need {}\".format(strSug))\n",
    "\n",
    "    else:\n",
    "        print(\"Password must have 8 char\")\n",
    "\n",
    "print(time.time()-startime)"
   ]
  },
  {
   "cell_type": "code",
   "execution_count": 3,
   "metadata": {},
   "outputs": [
    {
     "name": "stdout",
     "output_type": "stream",
     "text": [
      "You need  Upper, Lower, Space, !?#..,\n",
      "Password must have at least 8 characters\n",
      "Thank you sign up\n",
      "15.854884386062622\n"
     ]
    }
   ],
   "source": [
    "import string\n",
    "import time\n",
    "\n",
    "class PasswordChecker:\n",
    "    def __init__(self, min_len=8):\n",
    "        self.setCheckUpper = {char for char in string.ascii_uppercase}\n",
    "        self.setCheckLower = {char for char in string.ascii_lowercase}\n",
    "        self.setCheckDigit = {char for char in string.digits}\n",
    "        self.setCheckAll = self.setCheckUpper.union(self.setCheckLower, self.setCheckDigit, \" \") \n",
    "        self.min_len = min_len\n",
    "\n",
    "    def check_password(self, psw):\n",
    "        pswSet={char for char in psw}\n",
    "\n",
    "        if len(psw) < self.min_len:\n",
    "            return \"Password must have at least {} characters\".format(self.min_len)\n",
    "\n",
    "        strSug=\"\"\n",
    "        secretPoint = 0\n",
    "        if not self.setCheckUpper.isdisjoint(pswSet):\n",
    "            secretPoint += 20\n",
    "        else:\n",
    "            strSug += \" Upper,\"\n",
    "\n",
    "        if not self.setCheckLower.isdisjoint(pswSet):\n",
    "            secretPoint += 20\n",
    "        else:\n",
    "            strSug += \" Lower,\"\n",
    "\n",
    "        if not self.setCheckDigit.isdisjoint(pswSet):\n",
    "            secretPoint += 20\n",
    "        else:\n",
    "            strSug += \" Digit,\"\n",
    "\n",
    "        if \" \" in psw:\n",
    "            secretPoint += 20\n",
    "        else:\n",
    "            strSug += \" Space,\"\n",
    "\n",
    "        if not len(pswSet - self.setCheckAll) == 0:\n",
    "            secretPoint += 20\n",
    "        else:\n",
    "            strSug += \" !?#..,\"\n",
    "\n",
    "        if secretPoint == 100:\n",
    "            return \"Thank you sign up\"\n",
    "        else:\n",
    "            return \"You need {}\".format(strSug)\n",
    "            \n",
    "\n",
    "start_time = time.time()\n",
    "checker = PasswordChecker()\n",
    "while True:\n",
    "    psw = input(\"Sign up password: \")\n",
    "    endStr = checker.check_password(psw)\n",
    "    print (endStr)\n",
    "    if endStr == \"Thank you sign up\":\n",
    "        break\n",
    "print(time.time() - start_time)"
   ]
  }
 ],
 "metadata": {
  "kernelspec": {
   "display_name": ".venv",
   "language": "python",
   "name": "python3"
  },
  "language_info": {
   "codemirror_mode": {
    "name": "ipython",
    "version": 3
   },
   "file_extension": ".py",
   "mimetype": "text/x-python",
   "name": "python",
   "nbconvert_exporter": "python",
   "pygments_lexer": "ipython3",
   "version": "3.10.9"
  },
  "orig_nbformat": 4
 },
 "nbformat": 4,
 "nbformat_minor": 2
}
